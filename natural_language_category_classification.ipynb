{
 "cells": [
  {
   "cell_type": "code",
   "execution_count": 1,
   "metadata": {},
   "outputs": [],
   "source": [
    "from google.cloud import language\n",
    "from google.cloud.language import enums\n",
    "from google.cloud.language import types\n",
    "import argparse\n",
    "import io\n",
    "import json\n",
    "import os\n",
    "import numpy\n",
    "import six\n",
    "import pandas"
   ]
  },
  {
   "cell_type": "code",
   "execution_count": 34,
   "metadata": {},
   "outputs": [],
   "source": [
    "!export GOOGLE_APPLICATION_CREDENTIALS=\"./My_First_Project-ecf87926b819.json\""
   ]
  },
  {
   "cell_type": "markdown",
   "metadata": {},
   "source": [
    "df = pandas.read_csv('/Users/linhpham/Desktop/hrdata.csv', index_col='Employee', \n",
    "            parse_dates=['Hired'], \n",
    "            header=0, \n",
    "            names=['Employee', 'Hired','Salary', 'Sick Days'])"
   ]
  },
  {
   "cell_type": "code",
   "execution_count": 19,
   "metadata": {},
   "outputs": [],
   "source": [
    "def classify(text, verbose= True):\n",
    "    \"\"\"Classify the input text into categories.\"\"\"\n",
    "    client = language.LanguageServiceClient.from_service_account_file(\"./My_First_Project-ecf87926b819.json\")\n",
    "    document = client.types.Document(\n",
    "        content=text,\n",
    "        type=language.enums.Document.Type.PLAIN_TEXT)\n",
    "    response = client.classify_text(document)\n",
    "    categories = response.categories\n",
    "    \n",
    "    result = {}\n",
    "    \n",
    "    for category in categories: \n",
    "        result[category.name] = category.confidence\n",
    "    \n",
    "    if verbose: \n",
    "        print(text)\n",
    "    for category in categories:\n",
    "        print(u'=' * 20)\n",
    "        print(u'{:<16}: {}'.format('category', category.name))\n",
    "        print(u'{:<16}: {}'.format('confidence', category.confidence))\n",
    "\n",
    "    return result"
   ]
  },
  {
   "cell_type": "markdown",
   "metadata": {},
   "source": [
    "text = u'Hello, world!'\n",
    "document = types.Document(\n",
    "    content=text,\n",
    "    type=enums.Document.Type.PLAIN_TEXT)"
   ]
  },
  {
   "cell_type": "markdown",
   "metadata": {},
   "source": [
    "sentiment = client.analyze_sentiment(document=document).document_sentiment"
   ]
  },
  {
   "cell_type": "markdown",
   "metadata": {},
   "source": [
    "print('Text: {}'.format(text))\n",
    "print('Sentiment: {}, {}'.format(sentiment.score, sentiment.magnitude))"
   ]
  },
  {
   "cell_type": "markdown",
   "metadata": {},
   "source": [
    "ex_text = '''The city of Charlotte had sought a public university since 1871 but was never able to sustain one. For years, the nearest state-supported university was 90 miles (140 km) away. The city submitted a bid in the late 1880s for what would become North Carolina State University, but lost to the city of Raleigh after a local farmer offered to donate land for the campus.[11] In 1946, the city sought a state-run medical school; instead, the state expanded the existing two-year school at UNC-Chapel Hill.'''"
   ]
  },
  {
   "cell_type": "markdown",
   "metadata": {},
   "source": [
    "print('Text: {}'.format(text))"
   ]
  },
  {
   "cell_type": "markdown",
   "metadata": {},
   "source": [
    "print(df)"
   ]
  },
  {
   "cell_type": "markdown",
   "metadata": {},
   "source": [
    "for e in language_analysis.entities:\n",
    "    print(e.name, e.entity_type, e.metadata, e.salience)"
   ]
  }
 ],
 "metadata": {
  "kernelspec": {
   "display_name": "Python 3",
   "language": "python",
   "name": "python3"
  },
  "language_info": {
   "codemirror_mode": {
    "name": "ipython",
    "version": 3
   },
   "file_extension": ".py",
   "mimetype": "text/x-python",
   "name": "python",
   "nbconvert_exporter": "python",
   "pygments_lexer": "ipython3",
   "version": "3.7.0"
  }
 },
 "nbformat": 4,
 "nbformat_minor": 2
}

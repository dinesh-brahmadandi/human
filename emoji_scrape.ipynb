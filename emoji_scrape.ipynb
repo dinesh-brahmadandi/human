{
 "cells": [
  {
   "cell_type": "markdown",
   "metadata": {},
   "source": [
    "# Emoji Scrape\n",
    "- Sift through HTML page data as txt file to convert it to readable datasets for CSVs"
   ]
  },
  {
   "cell_type": "code",
   "execution_count": 109,
   "metadata": {},
   "outputs": [],
   "source": [
    "# To Do\n",
    "# import urllib.request\n",
    "# urllib.request.urlretrieve (\"https://new-york.bedpage.com/backpage.com/TherapeuticMassage/\", \"./sources/scrapes_test.txt\")"
   ]
  },
  {
   "cell_type": "code",
   "execution_count": 110,
   "metadata": {},
   "outputs": [],
   "source": [
    "URL = \"./sources/scrape_test.txt\"\n",
    "\n"
   ]
  },
  {
   "cell_type": "code",
   "execution_count": 111,
   "metadata": {},
   "outputs": [],
   "source": [
    "with open('./sources/scrape_test.txt', encoding = 'utf-16') as myfile:\n",
    "    data = myfile.read()\n",
    "    # data is original html to string\n",
    "    # data2 is useless emojis as string\n",
    "    "
   ]
  },
  {
   "cell_type": "markdown",
   "metadata": {},
   "source": [
    "## Extracting Emojis from HTML page\n",
    "- used emoji.UNICODE_EMOJI to extract emojis using for loop to go thru entire HTML page"
   ]
  },
  {
   "cell_type": "code",
   "execution_count": 112,
   "metadata": {
    "scrolled": true
   },
   "outputs": [
    {
     "data": {
      "text/plain": [
       "'💦💦💦💦☯🌺🌺✨🌺🌺💆♂💆♀⭐⭐🎈🎈❤❤❤❤❤❤❤❤❤❤❤❤🌺🌺🔥🌺🌺🌺🔥🌺🌺🌺🌺🔥🌺🌺🌺🔥🔥🔥🔥🌺🔥❌⭕❌⭕❌⭕☎⭕❌⭕❌⭕❌⭕❌⭕❌⭕👙💫👙💫👝👙💫👙💫👝👙💫👙💫👝💋❤💋❤💋❤💋❤💋❤💋❤💋❤💋❤💋❤💋❤🌻🍀🌻🍀🌻💋🌻🍀🌻🍀🌻💋🌻🍀🌻🍀🌻💋💞💞💞💞💞💞💞💞💞💞💞💞💞💞💞💞💞💞💞💞💞💞💞💞💞💞💞💞💞💞💞💞💞💞💞💞💞💞💞💞💞💞❤❤❤💋❤❤❤❤❤💋❤❤❤❤❤💋❤❤❤❤❤💋❤❤❤❤❤💋❤❤❤❤❤💋❤❤❤❤❤💋❤❤🌹🌹🌹🌹💓🌹🌹💓❤❤❤❤❤❤❤🎁🎁🎁🎁🎁🎁👍🔴🔴🔴🔴🔴🔴🔴🔴🔴🔴🎁🎁🎁👍🔴🔴🔴🔴🔴🔴🔴🔴🔴🔴❤🖤💛💚🧡🖤❤💛🧡💚🖤❤💛🧡💚❤🖤💛💚🧡🖤❤💛🧡💚🖤❤💛🧡💚❤🖤💛💚🧡🖤❤💛🧡💚🖤❤💛🧡💚❤🖤💛💚🧡🖤❤💛🧡💚🖤❤💛🧡💚💦💦👅😘💦💦👅😘💦💦👅😘🌹🌹🌹🌹💓🌹🌹💓❤❤❤❤❤❤❤❌⭕❌⭕❌⭕☎⭕❌⭕❌⭕❌💦💦💦💦☯☯🌺🌺✨🌺🌺🔥🍒🍒🔥🔥🌺🌺💆♂💦🍆⭐⭐♥❤🔯✨✨💟🎀🔯💟💟✨🔯💟💟💞💞💞💞💞💞💞💞💞💞❤❤❤❤❤❤❤❤👑🍒🍓✨💎💯💎👀🍭🍬🍭💯🍒🍓💫👠💲💲😜💦👅🍌💦💦😻💦👀💋💦👙💫👙💫👝💋💦😜😜❤✈❣😉💋❤💋❤🌺🌺✨🌺🌺🔥🍒🍒🔥🔥🌺🌺🌻🍀🌻🍀🌻💋🍀✴❤🚺💛✴❤🚺💛💛💛💛✴❤❤🚺👙💋💦🍒🍒🍒❤❤❤❤❤❤❤❤💆♂💦🍆🌺✨🌺🍒✨❤✨❤✨✨❤✨✨❤💞💞💞💞💞💞💞💞💞💞💋💦😜😜❤✈❣😉😜💦👅🍌💦💦😻💦👀💋💦⭐🅾🅰🅿🔥🔯✨✨💟🎀🔯💟💟✨🔯💟💟👍👍👙💋💦❣💖💗💖💗❣💥❣💥❣💖💖💖☎👙💋💦💞💞💞💞💞💞❤❤❤💋❤❤🍎🍎🍎♻♻🍎🍎🍎♻♻🍎🍎🍎♻♻🍎💆♂💆♂💆♂🤗🍒🍒❤✨❤✨✨❤✨✨❤🌹🌹💓💆♂💦🍆💞💞💞💞💞💞💞💞💞💞❤🍎🍎🍎♻♻🍎🍎🍎♻♻🍎🍎🍎♻♻🍎😜💦👅🍌💦💦😻💦👀💋💦👍👙💋💦💋💦😜😜❤✈❣😉👑🍒🍓✨💎💯💎👀🍭🍬🍭💯🍒🍓💫🔯✨✨💟🎀🔯💟💟✨🔯💟💟👠💲💲❤🍀✴❤🚺💛✴❤🚺💛💛💛✴❤❤🚺🎈🎈🎁🎁🎁👍🔴❤🖤💛💚🧡🖤💆♂💦🍆😘😘💦💦💦💦👀💋💋👅💋🌻🍀🌻🍀🌻💋💆♂💦🍆🍒🍓💆♂❤✨❤✨✨❤✨✨❤💆♂💆♂💆♂🤗🍒🍒💞💞💞💞💞💞💞💞💞💞❤❤❤❤❤❤❤❤❤❤❤❤❤❤❤❤❤❤❤❤❤❤❤❤❤🍎🍎🍎♻♻🍎🍎🍎♻♻🍎🍎🍎♻♻🍎🔯🎀🔯✨✨💟🎀🔯💟💟✨🔯🎀🔯💟💟🔯✨✨💟🍀✴❤🚺💛✴❤🚺💛💛💛✴❤✴❤❤🚺💛💛✴👑🍒🍓✨💎💯💎👀🍭🍬🍭💯🍒🍓💫💋💦😜😜❤✈❣😉💦💦👅😘⭐🅾🅰🅿🔥🍀✴❤🚺💛✴❤🚺💛💛💛✴❤🚺💛💛✴❤❤🚺❤🚺💞💞💞💞💞💞💞💞💞💞❤✨❤✨✨❤✨✨❤🔥🔥🍒🍓💆♂💆♂💆♂🤗🍒🍒💆♂🌹🌹💓❤🍎🍎🍎♻♻🍎🍎🍎♻♻🍎🍎🍎♻♻🍎👙💋💦🌺🌺🔥🌺🌺🌺🔥🌺🌺🌺🌺🔥🌺🌺🌺🔥🔥🔥🔥🌺🔥💋💦😜😜❤✈❣😉👑🍒🍓✨💎💯💎👀🍭🍬🍭💯🍒🍓💫👠💲💲❤✨❤✨✨❤✨✨❤✨✨🦄🌈🌈💦✨✨🦄☎🌺✨💓✨🌺💆♂💆♂💆♂🤗🍒🍒🦋🦋🦋🦋🦋🦋🦋🦋🦋💦💆♂🍒🍓🔥🔥💆♂❣❣❣💖💗💖💗💖💗❣💖💖💖💖☎🔯🎀🔯✨✨💟🎀🔯💟💟✨🔯🎀🔯💟💟🔯✨✨💟🍀✴❤🚺💛✴❤🚺💛💛💛✴❤🚺💛💛✴❤❤🚺❤🚺🔥🔴🔥🔥🔴🔥🔴🔥🔴🔥🔴💜💙💚❤💜💙🔥🔥🔥🔥❌⭕❌⭕❌⭕☎⭕❌⭕❌⭕❌⭕❌⭕❌⭕💋💦😜😜❤✈❣😉👑🍒🍓✨💎💯💎👀🍭🍬🍭💯🍒🍓💫😘😘💦💦👀👅⭐🅾🅰🅿🔥🔥🔴🔥🔥🔴🔥🔴🔥🔴🔥🔴💜💙💚❤💜💙🔥🔥🔥🔥❤💆♂💆♂💆♂🤗🍒🍒🦋🦋🦋🦋🦋🦋🦋🦋🦋💦🍒🍓🔥🔥💆♂💞💞💞💞💞💞💞💞💞💞💆♂🍒🍓💆♂💖💗💖💗❣💥💥❣💖💖💖💥💥💥💥💖💖💖☎☎🍀✴❤🚺💛✴❤🚺💛💛💛✴❤🚺💛💛✴❤❤🚺❤🚺🔥🔴🔥🔥🔴🔥🔴🔥🔴🔥🔴💜💙💚❤💜💙🔥🔥🔥🔥🔥🔥💆♂🦋🦋🦋🦋🦋🦋🦋🦋🦋💦💞💞💞💞💞💞💞💞💞💞❌⭕❌⭕❌⭕☎⭕❌⭕❌⭕❌⭕❌⭕❌⭕👙💫👙💫👝👙💫👙💫👝👙💫👙💫👝💋❤💋❤💋❤💋❤💋❤💋❤💋❤💋❤💋❤💋❤🌻🍀🌻🍀🌻💋🌻🍀🌻🍀🌻💋🌻🍀🌻🍀🌻💋💞💞💞💞💞💞💞💞💞💞💞💞💞💞💞💞💞💞💞💞💞💞💞💞💞💞💞💞💞💞💞💞💞💞💞💞💞💞💞💞💞💞❤❤❤💋❤❤❤❤❤💋❤❤❤❤❤💋❤❤❤❤❤💋❤❤❤❤❤💋❤❤❤❤❤💋❤❤❤❤❤💋❤❤🌹🌹💓🌹🌹💓🌹🌹💓❤❤❤❤❤❤❤🎁🎁🎁👍🔴🔴🔴🔴🔴🔴🔴🔴🔴🔴🎁🎁🎁👍🔴🔴🔴🔴🔴🔴🔴🔴🔴🔴🎁🎁🎁👍🔴🔴🔴🔴🔴🔴🔴🔴🔴🔴❤🖤💛💚🧡🖤❤💛🧡💚🖤❤💛🧡💚❤🖤💛💚🧡🖤❤💛🧡💚🖤❤💛🧡💚❤🖤💛💚🧡🖤❤💛🧡💚🖤❤💛🧡💚❤🖤💛💚🧡🖤❤💛🧡💚🖤❤💛🧡💚❤🖤💛💚🧡🖤❤💛🧡💚🖤❤💛🧡💚💦💦👅😘💦💦👅😘💦💦👅😘🌹🌹💓🌹🌹💓🌹🌹💓❤❤❤❤❤❤❤❌⭕❌⭕❌⭕☎⭕❌⭕❌⭕❌⭕❌⭕❌⭕❌©'"
      ]
     },
     "execution_count": 112,
     "metadata": {},
     "output_type": "execute_result"
    }
   ],
   "source": [
    "import emoji\n",
    "\n",
    "def extract_emoji(data):\n",
    "    return ''.join(c for c in data if c in emoji.UNICODE_EMOJI)\n",
    "\n",
    "extract_emoji(data)"
   ]
  },
  {
   "cell_type": "markdown",
   "metadata": {},
   "source": [
    "## Extracting Key Emojis\n",
    "- Used \"Don't Want to Get Caught? Don't Say It: The Use of EMOJIS in Online Human Sex Trafficking Ads\" by Murray E. Jennex et. al. report to find key emojis within the HTML page"
   ]
  },
  {
   "cell_type": "code",
   "execution_count": 113,
   "metadata": {},
   "outputs": [
    {
     "data": {
      "text/plain": [
       "'🌹🌹🌹🌹🌹🌹💛💛💛💛💛💛💛💛💛💛💛💛🌹🌹🌹🌹🌹🌹🍒🍒👑🍒🍒✈🍒🍒💛💛💛💛💛🍒🍒🍒🍒✈💗💗🍒🍒🌹🌹✈👑🍒🍒💛💛💛💛💛🍒🍒🍒💛💛💛💛💛💛👑🍒🍒✈💛💛💛💛💛💛🍒🍒🍒🌹🌹✈👑🍒🍒🍒🍒🍒💗💗💗💛💛💛💛💛💛✈👑🍒🍒🍒🍒🍒🍒💗💗💛💛💛💛💛💛🌹🌹🌹🌹🌹🌹💛💛💛💛💛💛💛💛💛💛💛💛💛💛💛🌹🌹🌹🌹🌹🌹'"
      ]
     },
     "execution_count": 113,
     "metadata": {},
     "output_type": "execute_result"
    }
   ],
   "source": [
    "import emoji\n",
    "emoji_list = ['🍒','🌸','✈','🛬','🌹','🏵','👑', '💛','💗']\n",
    "def extract_emoji(data):\n",
    "    return ''.join(c for c in data if c in emoji_list)\n",
    "\n",
    "extract_emoji(data)"
   ]
  },
  {
   "cell_type": "code",
   "execution_count": null,
   "metadata": {},
   "outputs": [],
   "source": []
  },
  {
   "cell_type": "code",
   "execution_count": 114,
   "metadata": {},
   "outputs": [],
   "source": [
    "def extract_useless_emoji(data) :\n",
    "    return ''.join(c for c in data if c in emoji.UNICODE_EMOJI and c not in emoji_list)"
   ]
  },
  {
   "cell_type": "code",
   "execution_count": 115,
   "metadata": {
    "scrolled": true
   },
   "outputs": [
    {
     "name": "stdout",
     "output_type": "stream",
     "text": [
      "💦💦💦💦☯🌺🌺✨🌺🌺💆♂💆♀⭐⭐🎈🎈❤❤❤❤❤❤❤❤❤❤❤❤🌺🌺🔥🌺🌺🌺🔥🌺🌺🌺🌺🔥🌺🌺🌺🔥🔥🔥🔥🌺🔥❌⭕❌⭕❌⭕☎⭕❌⭕❌⭕❌⭕❌⭕❌⭕👙💫👙💫👝👙💫👙💫👝👙💫👙💫👝💋❤💋❤💋❤💋❤💋❤💋❤💋❤💋❤💋❤💋❤🌻🍀🌻🍀🌻💋🌻🍀🌻🍀🌻💋🌻🍀🌻🍀🌻💋💞💞💞💞💞💞💞💞💞💞💞💞💞💞💞💞💞💞💞💞💞💞💞💞💞💞💞💞💞💞💞💞💞💞💞💞💞💞💞💞💞💞❤❤❤💋❤❤❤❤❤💋❤❤❤❤❤💋❤❤❤❤❤💋❤❤❤❤❤💋❤❤❤❤❤💋❤❤❤❤❤💋❤❤💓💓❤❤❤❤❤❤❤🎁🎁🎁🎁🎁🎁👍🔴🔴🔴🔴🔴🔴🔴🔴🔴🔴🎁🎁🎁👍🔴🔴🔴🔴🔴🔴🔴🔴🔴🔴❤🖤💚🧡🖤❤🧡💚🖤❤🧡💚❤🖤💚🧡🖤❤🧡💚🖤❤🧡💚❤🖤💚🧡🖤❤🧡💚🖤❤🧡💚❤🖤💚🧡🖤❤🧡💚🖤❤🧡💚💦💦👅😘💦💦👅😘💦💦👅😘💓💓❤❤❤❤❤❤❤❌⭕❌⭕❌⭕☎⭕❌⭕❌⭕❌💦💦💦💦☯☯🌺🌺✨🌺🌺🔥🔥🔥🌺🌺💆♂💦🍆⭐⭐♥❤🔯✨✨💟🎀🔯💟💟✨🔯💟💟💞💞💞💞💞💞💞💞💞💞❤❤❤❤❤❤❤❤🍓✨💎💯💎👀🍭🍬🍭💯🍓💫👠💲💲😜💦👅🍌💦💦😻💦👀💋💦👙💫👙💫👝💋💦😜😜❤❣😉💋❤💋❤🌺🌺✨🌺🌺🔥🔥🔥🌺🌺🌻🍀🌻🍀🌻💋🍀✴❤🚺✴❤🚺✴❤❤🚺👙💋💦❤❤❤❤❤❤❤❤💆♂💦🍆🌺✨🌺✨❤✨❤✨✨❤✨✨❤💞💞💞💞💞💞💞💞💞💞💋💦😜😜❤❣😉😜💦👅🍌💦💦😻💦👀💋💦⭐🅾🅰🅿🔥🔯✨✨💟🎀🔯💟💟✨🔯💟💟👍👍👙💋💦❣💖💖❣💥❣💥❣💖💖💖☎👙💋💦💞💞💞💞💞💞❤❤❤💋❤❤🍎🍎🍎♻♻🍎🍎🍎♻♻🍎🍎🍎♻♻🍎💆♂💆♂💆♂🤗❤✨❤✨✨❤✨✨❤💓💆♂💦🍆💞💞💞💞💞💞💞💞💞💞❤🍎🍎🍎♻♻🍎🍎🍎♻♻🍎🍎🍎♻♻🍎😜💦👅🍌💦💦😻💦👀💋💦👍👙💋💦💋💦😜😜❤❣😉🍓✨💎💯💎👀🍭🍬🍭💯🍓💫🔯✨✨💟🎀🔯💟💟✨🔯💟💟👠💲💲❤🍀✴❤🚺✴❤🚺✴❤❤🚺🎈🎈🎁🎁🎁👍🔴❤🖤💚🧡🖤💆♂💦🍆😘😘💦💦💦💦👀💋💋👅💋🌻🍀🌻🍀🌻💋💆♂💦🍆🍓💆♂❤✨❤✨✨❤✨✨❤💆♂💆♂💆♂🤗💞💞💞💞💞💞💞💞💞💞❤❤❤❤❤❤❤❤❤❤❤❤❤❤❤❤❤❤❤❤❤❤❤❤❤🍎🍎🍎♻♻🍎🍎🍎♻♻🍎🍎🍎♻♻🍎🔯🎀🔯✨✨💟🎀🔯💟💟✨🔯🎀🔯💟💟🔯✨✨💟🍀✴❤🚺✴❤🚺✴❤✴❤❤🚺✴🍓✨💎💯💎👀🍭🍬🍭💯🍓💫💋💦😜😜❤❣😉💦💦👅😘⭐🅾🅰🅿🔥🍀✴❤🚺✴❤🚺✴❤🚺✴❤❤🚺❤🚺💞💞💞💞💞💞💞💞💞💞❤✨❤✨✨❤✨✨❤🔥🔥🍓💆♂💆♂💆♂🤗💆♂💓❤🍎🍎🍎♻♻🍎🍎🍎♻♻🍎🍎🍎♻♻🍎👙💋💦🌺🌺🔥🌺🌺🌺🔥🌺🌺🌺🌺🔥🌺🌺🌺🔥🔥🔥🔥🌺🔥💋💦😜😜❤❣😉🍓✨💎💯💎👀🍭🍬🍭💯🍓💫👠💲💲❤✨❤✨✨❤✨✨❤✨✨🦄🌈🌈💦✨✨🦄☎🌺✨💓✨🌺💆♂💆♂💆♂🤗🦋🦋🦋🦋🦋🦋🦋🦋🦋💦💆♂🍓🔥🔥💆♂❣❣❣💖💖💖❣💖💖💖💖☎🔯🎀🔯✨✨💟🎀🔯💟💟✨🔯🎀🔯💟💟🔯✨✨💟🍀✴❤🚺✴❤🚺✴❤🚺✴❤❤🚺❤🚺🔥🔴🔥🔥🔴🔥🔴🔥🔴🔥🔴💜💙💚❤💜💙🔥🔥🔥🔥❌⭕❌⭕❌⭕☎⭕❌⭕❌⭕❌⭕❌⭕❌⭕💋💦😜😜❤❣😉🍓✨💎💯💎👀🍭🍬🍭💯🍓💫😘😘💦💦👀👅⭐🅾🅰🅿🔥🔥🔴🔥🔥🔴🔥🔴🔥🔴🔥🔴💜💙💚❤💜💙🔥🔥🔥🔥❤💆♂💆♂💆♂🤗🦋🦋🦋🦋🦋🦋🦋🦋🦋💦🍓🔥🔥💆♂💞💞💞💞💞💞💞💞💞💞💆♂🍓💆♂💖💖❣💥💥❣💖💖💖💥💥💥💥💖💖💖☎☎🍀✴❤🚺✴❤🚺✴❤🚺✴❤❤🚺❤🚺🔥🔴🔥🔥🔴🔥🔴🔥🔴🔥🔴💜💙💚❤💜💙🔥🔥🔥🔥🔥🔥💆♂🦋🦋🦋🦋🦋🦋🦋🦋🦋💦💞💞💞💞💞💞💞💞💞💞❌⭕❌⭕❌⭕☎⭕❌⭕❌⭕❌⭕❌⭕❌⭕👙💫👙💫👝👙💫👙💫👝👙💫👙💫👝💋❤💋❤💋❤💋❤💋❤💋❤💋❤💋❤💋❤💋❤🌻🍀🌻🍀🌻💋🌻🍀🌻🍀🌻💋🌻🍀🌻🍀🌻💋💞💞💞💞💞💞💞💞💞💞💞💞💞💞💞💞💞💞💞💞💞💞💞💞💞💞💞💞💞💞💞💞💞💞💞💞💞💞💞💞💞💞❤❤❤💋❤❤❤❤❤💋❤❤❤❤❤💋❤❤❤❤❤💋❤❤❤❤❤💋❤❤❤❤❤💋❤❤❤❤❤💋❤❤💓💓💓❤❤❤❤❤❤❤🎁🎁🎁👍🔴🔴🔴🔴🔴🔴🔴🔴🔴🔴🎁🎁🎁👍🔴🔴🔴🔴🔴🔴🔴🔴🔴🔴🎁🎁🎁👍🔴🔴🔴🔴🔴🔴🔴🔴🔴🔴❤🖤💚🧡🖤❤🧡💚🖤❤🧡💚❤🖤💚🧡🖤❤🧡💚🖤❤🧡💚❤🖤💚🧡🖤❤🧡💚🖤❤🧡💚❤🖤💚🧡🖤❤🧡💚🖤❤🧡💚❤🖤💚🧡🖤❤🧡💚🖤❤🧡💚💦💦👅😘💦💦👅😘💦💦👅😘💓💓💓❤❤❤❤❤❤❤❌⭕❌⭕❌⭕☎⭕❌⭕❌⭕❌⭕❌⭕❌⭕❌©\n"
     ]
    }
   ],
   "source": [
    "data2 = extract_useless_emoji(data)\n",
    "print(data2)"
   ]
  },
  {
   "cell_type": "markdown",
   "metadata": {},
   "source": [
    "## Isolating Titles from rest of HTML page\n",
    "- Using BeautifulSoup, create an object from HTML txt file and store all titles into a list (Soup ResultSet object)"
   ]
  },
  {
   "cell_type": "code",
   "execution_count": 116,
   "metadata": {},
   "outputs": [],
   "source": [
    "from bs4 import BeautifulSoup\n",
    "title = open(URL, encoding='utf-16')\n",
    "\n",
    "soup = BeautifulSoup(title)\n",
    "\n",
    "mydivs = soup.findAll(\"div\", {\"class\": lambda L:L and L.startswith('cat ad-')})"
   ]
  },
  {
   "cell_type": "code",
   "execution_count": null,
   "metadata": {
    "scrolled": true
   },
   "outputs": [],
   "source": []
  },
  {
   "cell_type": "markdown",
   "metadata": {},
   "source": [
    "### Example of title data before scrubbing"
   ]
  },
  {
   "cell_type": "code",
   "execution_count": 117,
   "metadata": {},
   "outputs": [],
   "source": [
    "title1 = mydivs[0]"
   ]
  },
  {
   "cell_type": "code",
   "execution_count": 118,
   "metadata": {},
   "outputs": [
    {
     "name": "stdout",
     "output_type": "stream",
     "text": [
      "<div class=\"cat ad-6164326\">\n",
      "<a onclick=\"return displaypost(6164326)\"><img src=\"https://www.bedpage.com/assets/images/bn2.png\"/>\n",
      "</a><a href=\"https://new-york.bedpage.com/backpage.com/TherapeuticMassage/long-island-city-queens-ny-usa/6164326\" target=\"_blank\"> \n",
      "\t\t\t\t\t\t\t\t\n",
      "\t\t\t\t\t\t\t\tNew Girls - Open 24 hrs New Body Work, Best In Town! Wonderful and Relaxing from Sweet girls, Call: 646-255-5931<b> - (Long Island City, Queens, NY, USA )</b>\n",
      "</a>\n",
      "</div>\n"
     ]
    }
   ],
   "source": [
    "print(title1)"
   ]
  },
  {
   "cell_type": "markdown",
   "metadata": {},
   "source": [
    "## Isolating ID numbers from Title\n",
    "- use mydivs object in for loop combined with string splicing to output ID number from each title"
   ]
  },
  {
   "cell_type": "code",
   "execution_count": 119,
   "metadata": {},
   "outputs": [
    {
     "name": "stdout",
     "output_type": "stream",
     "text": [
      "['6164326', '6314365', '6267230', '6314087', '6313982', '6309062', '6313926', '6313742', '6165063', '6267862', '6313696', '6242030', '6313654', '6297852', '6313490', '6313487', '6313475', '6313466', '6313455', '6313445', '6313432', '6313419', '6301300', '6313350', '6313274', '6313273', '6239080', '6295326', '6228894', '6313114', '6298906', '6312863', '6312703', '6312682', '6312561', '6312463', '6312372', '6312209', '6312183', '6299129', '6312169', '6312153', '6312023', '6293088', '6298918', '6305921', '6249899', '6309549', '6311942', '6234914', '6295370', '6295455', '6243933', '6311880', '6264532', '6311870', '6301088', '6311694', '6311592', '6311487', '6311440', '6311351', '6200813', '6311278', '6311054', '6311011', '6310998', '6310874', '6308385', '6249518', '6310809', '6310800', '6310757', '6310712', '6301315', '6310669', '6243970', '6309506', '6309584', '6309516', '6310601', '6310577', '6310576', '6265593', '6310488', '6310429', '6310202', '6310187', '6310166', '6310004', '6281541', '6309926', '6309841', '6309789', '6309741', '6309366', '6299534', '6309711', '6309690', '6309683', '6309676', '6237343', '6309517', '6309483', '6309470', '6309468', '6309431', '6281148', '6190261', '6309331', '6297713', '6309231', '6309114', '6309020', '6309034', '6308976', '6308957', '6308887', '6308568', '6308508', '6308462', '6241546', '6308376', '6308357', '6308326', '6308304', '6308287', '6202605', '6308187', '6307972', '6307920', '6307869', '6307721', '6307645', '6307620', '6307525', '6307358', '6307287', '6307234', '6307230', '6307229', '6307224', '6307188', '6307187', '6239173', '6307171', '6307160', '6307151', '6307014', '6243866', '6306708', '6306616', '6306506', '6306407', '6306343', '6306275', '6306244', '6306144', '6306105', '6294343', '6306069', '6306039', '6305974', '6305950', '6305922', '6305746', '6305562', '6215243', '6305276', '6305140', '6163071']\n"
     ]
    }
   ],
   "source": [
    "id_array = []\n",
    "j=0\n",
    "for i in mydivs:\n",
    "    temp = str(mydivs[j])\n",
    "    id_array.append(temp[19:26])\n",
    "    j+=1\n",
    "print(id_array)"
   ]
  },
  {
   "cell_type": "markdown",
   "metadata": {},
   "source": [
    "## Extracting Title Heading\n",
    "- get title heading from HTML page and clean up output to prepare for machine learning"
   ]
  },
  {
   "cell_type": "code",
   "execution_count": 120,
   "metadata": {},
   "outputs": [],
   "source": [
    "# holds cleaned Title heading\n",
    "title_array = []"
   ]
  },
  {
   "cell_type": "code",
   "execution_count": 121,
   "metadata": {},
   "outputs": [
    {
     "name": "stdout",
     "output_type": "stream",
     "text": [
      "('New Girls - Open 24 hrs New Body Work, Best In Town! Wonderful and Relaxing from Sweet girls, Call: 646-255-5931 - (Long Island City, Queens, NY, USA )', 'Hot Ts latina Here 💦💦💦💦BAY RIDGE - (Bay Ridge, Brooklyn, NY, USA )', '★☯★ Therapeutic Touch Therapy With Professional Cuddle Buddies + Travel Companions ★☯★ - (United States )', \"Rise to The Occasion - Rosanna's Real Massage! - (Upper West Side, Manhattan, New York, NY, USA )\", 'Viviana feel free to book an appointment at : 917-310-0591. Av on midt west. 917-310-0591 - (Midtown West, Manhattan, New York, NY, USA )', 'Blonde Curvy DDD Knockout Hailey Is Back And To New Area ! Available All Night Long !  - (Manhattan, New York, NY, USA )', 'SEXY 🌺busty blonde🌺 34 DD✨🌺 NATURAL🌺 SENSUAL 🔥🍒very🍒🔥 RELAXING 🔥bodywork 🌺646_687_6342,🌺 - (White Plains, NY, USA )', '💆🏻\\u200d♂️Thai massage and Swedish combination 💦🍆 - (Manhattan, New York, NY, USA )', 'OPEN 10AM - Midnight.....?⭐️..NEW ..⭐️?............... .call ♥️ @ 646-255-5931 ❤️ ..........Nice Body Work from NEW GIRLS..........100 - (Queens, NY, USA )', 'Goddess Kat wil have you at her feet - (Brooklyn, NY, USA )', '🔯 ✨NEW GIRLS TODAY ✨💟🎀🔯▃ 💟💟✨Beautifully G▃ I▃R▃L▃S🔯▃💟YOUNG💟  (646) 982-7144 - (4030 149th Street, Flushing, NYC, ??? USA )', 'Gretchen the Goddess of Punishment - (Brooklyn, NY, USA )', '💞💞💞💞💞Exotic Asian Girls, 22 years old, 24/7, Outcall  💞💞💞💞💞 - (Long Island City, Queens, NY, USA )', '❤️❤️Asia ❤️❤️Japan ❤️9176407312 ❤️❤️Korea ❤️Phone 9294339992 - (814 47th Brooklyn  )', '👑🍒🍓✨Ɓєαυтιƒυℓ💎💯💎Asian 👀ƐƳƐ Ƈαη∂у🍭🍬🍭 ƬOρ-ƝOƬcн 💯%ⓇⒺⒶⓁ🍒🍓💫WETTER ANd BeTTer� - (Manhattan, New York, NY, USA )', 'BEAUTIFUL BLACK GODDESS: \"STORMY DAY\" - 212.353.8817 - (East 23rd Street, Manhattan, New York, NY, USA )', '▂▃▄▅▆▇█👠most ✿✿erotic✿✿ᒪᗩtiᑎᗩS &amp; ᗩSiᗩᑎS █▇▆▅▄▃▂▁ 💲 specials all night 💲⎝ ◕ ‿ ◕ � - (Manhattan, New York, NY, USA $99 SPECIAL )', 'Slim THICK with a NICE LIL FAT ASS😜💦👅🍌💦Tight 💦Wet KITTY😻💦👀Mesmerizing💋Curvz Impeccable Skilz💦 - (Manhattan, New York, NY, USA )', 'Mature is the rite option 👙💫Sensual rub Blonde hostess👙💫 MILF👝 incall  morning noon apps. - (Upper West Side, Manhattan, New York, NY, USA )', '99SPCLZ💋Korean ßombshεℓℓ NyMphO 💦deep thrOat😜😜❤️✈️ Avαiℓαbℓe ⓝⓞⓦ❣️ AMAZING skills 😉 - (Manhattan, New York, NY, USA )', 'Young Ts TITA. ... - (Bay Ridge, Brooklyn, NY, USA )', '💋❤️💋Nuru massage outcall ❤️917-266-0091 - (New York, NY, USA )', '*****Rub Boutique seeking American Girls/Indian Girls Great pay, no experience necessary 400+/day****** - (Long Island, New York, USA )', 'SEXY 🌺busty blonde🌺 34 DD✨🌺 NATURAL🌺 SENSUAL 🔥🍒very🍒🔥 RELAXING 🔥bodywork 🌺646_687_6342,🌺 - (White Plains, NY, USA )', '🌻🍀🌻🍀🌻 TANTRIC  Relaxation  by Victoria 💋 - (White Plains, NY, USA )', '🍀 ✴️❤🚺  ALL NEW ASIAN LADIES 💛✴️❤🚺💛 💛 YOUNG GRIL💛 💛✴️❤GOOD MASSAGE ❤🚺  (631) 563-0120 - (62 South Main Street, Sayville, NY, USA )', 'Latina girls 👙Erotic  bodyrub with Young  girl  💋will make you happy 💦516-667-4907 Mineola NY - (Mineola, NY, USA )', 'Best good massage hot Latina 914.327.9068 - (Bronx, NY, USA )', 'SENSATIONAL  TOCH   INCALL AND OUTCALL - (Astoria Boulevard, Astoria, NY, USA )', 'European Hottie  🍒LISSETE 🍒gorgeous Blond 🍒Sensual Upscale bodywork  - (White Plains, NY, USA )', '❤️❤️Asia ❤️❤️Japan ❤️9176407312  ❤️  Brooklyn   ❤️Korea ❤️Phone 9294339992 - (814 47th Street,Brooklyn  )', '💆🏻\\u200d♂️Thai massage and Swedish combination 💦🍆 - (Manhattan, New York, NY, USA )', 'Viviana feel free to book an appointment at : 917-310-0591. Av on midt west. 917-310-0591 - (Midtown West, Manhattan, New York, NY, USA )', 'Sexy BUSTY 🌺BLOND ✨36D natural 🌺sensual body rub  in call 🍒✨ - (White Plains, Westchester, NY, USA )', \"Rise to The Occasion - Rosanna's Real Massage! - (Upper West Side, Manhattan, New York, NY, USA )\", '❤️✨BODYWORK By EVE❤️✨ Tantric NUDE Massage✨Mutual TOUCH❤️Ava 10-8pm✨Private Incall✨❤️ - (Union Turnpike - Kew Gardens Sta, Queens, NY, USA )', '💞💞💞💞💞Exotic Asian Girls, 22 years old, 24/7, Outcall  💞💞💞💞💞 - (Long Island City, Queens, NY, USA )', '99SPCLZ💋Korean ßombshεℓℓ NyMphO 💦deep thrOat😜😜❤️✈️ Avαiℓαbℓe ⓝⓞⓦ❣️ AMAZING skills 😉 - (Manhattan, New York, NY, USA )', 'Slim THICK with a NICE LIL FAT ASS😜💦👅🍌💦Tight 💦Wet KITTY😻💦👀Mesmerizing💋Curvz Impeccable Skilz💦 - (Manhattan, New York, NY, USA )', 'Blonde Bombshell Riley here to tease and please you tonight ;) - (Midtown East, Manhattan, New York, NY, USA )', '⎝ ◕ ‿ ◕ ⎠σиℓʏ ғσя ʏσʋ ραρι⭐️🅾🅽🅻🆈◄ ▲🆁🅴🅰🅻 ► ▼🅿🅸🅲🆂¸✿乂◕‿◕乂🔥ⓗⓞ - (Manhattan, New York, NY, USA $99 SPECIAL )', 'THE ROYAL TREATMENT aka \"Cream de la Cream\" by Nurse Pearl -  Lovely Black Nurse 212.353.8817 - (East 23rd Street, Manhattan, New York, NY, USA )', '🔯 ✨NEW GIRLS TODAY ✨💟🎀🔯▃ 💟💟✨Beautifully G▃ I▃R▃L▃S🔯▃💟YOUNG💟  (646) 982-7144 - (4030 149th Street, Flushing, NYC, ????? )', 'Guen here with a gentle touch. 6314611818 Holbrook - (Holbrook, NY, USA )', 'Outcall Massage by CMT Natalia ***** Available Now ****** - (New York, NY, USA )', 'Sensual body rub, Forest hills - (Forest Hills, Queens, NY, USA )', 'ReaL Pictures 👍👍American girl &amp;  Latina Girls 👙Erotic  bodyrub with Young girl  4 hands available  💋will make you happy 💦516-667-4907Mi - (Mineola, NY, USA )', 'Erotic bodyrub 160$ - (Forest Hills, Queens, NY, USA )', '❣️ 💖Grand Open💗💖💗 YOUNG GRIL ❣️💥❣️💥❣️ NICE GRIL 💖24HOURS 💖💖  ☎  (929) 234-9365 - (6324 Bay Ridge Parkway, Brooklyn, NY, USA )', '_______________ _____________N_ __U___R_ U_____ __E__U___R___O_ __________G__ I__R___L___ S ___ ___ - (Midtown East, Manhattan, New York, NY, USA )', 'THAI MASSAGE 6465992443 - (Midtown, Manhattan, New York, NY, USA )', 'Meet ZOE! All Natural DDD Curvy Stunner Zoe Available Now The Ultimate Sensual Escape - (Midtown East, Manhattan, New York, NY, USA )', 'European &amp; Latina girls  👙  bodyrub with Young girl  4 hands available 💋will make you happy 💦516-667-4907Mineola NY - (Mineola, NY, USA )', '💞💞Curvy Busty College Babe💞 Sensual BodyRubs💞Private Studio💞💞 - (Williamsburg, Brooklyn, NY, USA )', '❤️❤️❤️European Bodyrub from Alyssa💋❤️❤️ - (New York, NY, USA )', '🍎🍎🍎♻️♻️VERY NICE GRILS🍎🍎🍎♻️♻️Cool Room🍎🍎🍎♻️♻️3Girls Young🍎  (929) 264-1801 - (740 East Jericho Turnpike, Huntington Station, NY, USA )', 'Royal Relaxation with Angelique Laroux 424-835-1620 - (Valley Stream, NY, USA )', \"Rise to The Occasion - Rosanna's Real Massage! - (Upper West Side, Manhattan, New York, NY, USA )\", '💆\\u200d♂️💆\\u200d♂️💆\\u200d♂️MASSAGE FEELS SO GOOD 🤗🍒🍒 - (Manhattan, New York, NY, USA )', '❤️✨BODYWORK By EVE❤️✨ Tantric NUDE Massage✨Mutual TOUCH❤️Ava 10-8pm✨Private Incall✨❤️ - (Union Turnpike - Kew Gardens Sta, Queens, NY, USA )', 'All Natural bombshell Available Now For Upscale NUDE Body rub  - (E 33rd St, New York, NY, USA )', '🌹 Independent OutCall Therapeutic Bodywork at Your Hotel/Apt by All-American Lady 🌹 ********** PLEASE TEXT ME AT - 646-715-6805 💓 - (New York, Manhattan, NY, USA )', 'BLACK JAMAICAN GODDESS 3473772169 DOMINATION FETISH PLAY &amp; BODYRUBS - (Sunset Park Brooklyn )', '💆🏻\\u200d♂️Thai massage and Swedish combination 💦🍆 - (Manhattan, New York, NY, USA )', '💞💞💞💞💞Exotic Asian Girls, 22 years old, 24/7, Outcall  💞💞💞💞💞 - (Long Island City, Queens, NY, USA )', 'Hi Hi! Come Enjoy a Massage from Brazilian TS in Brooklyn ❤️ Exotic BEAUTY - (Brooklyn, NY, USA )', 'Viviana feel free to book an appointment at : 917-310-0591. Av on midt west. 917-310-0591 - (Midtown West, Manhattan, New York, NY, USA )', '🍎🍎🍎♻️♻️VERY NICE GRILS🍎🍎🍎♻️♻️Cool Room🍎🍎🍎♻️♻️3Girls Young🍎  (929) 264-1801 - (740 East Jericho Turnpike, Huntington Station, NY, USA )', 'Slim THICK with a NICE LIL FAT ASS😜💦👅🍌💦Tight 💦Wet KITTY😻💦👀Mesmerizing💋Curvz Impeccable Skilz💦 - (Manhattan, New York, NY, USA )', 'ReaL Pictures 👍 Latina Girs👙Erotic  bodyrub with Young girl  4 hands available  💋will make you happy 💦516 -667-4907 Mineola NY - (Mineola, NY, USA )', '99SPCLZ💋Korean ßombshεℓℓ NyMphO 💦deep thrOat😜😜❤️✈️ Avαiℓαbℓe ⓝⓞⓦ❣️ AMAZING skills 😉 - (Manhattan, New York, NY, USA )', '👑🍒🍓✨Ɓєαυтιƒυℓ💎💯💎Asian 👀ƐƳƐ Ƈαη∂у🍭🍬🍭 ƬOρ-ƝOƬcн 💯%ⓇⒺⒶⓁ🍒🍓💫WETTER ANd BeTTer� - (Manhattan, New York, NY, USA )', '🔯 ✨NEW GIRLS TODAY ✨💟🎀🔯▃ 💟💟✨Beautifully G▃ I▃R▃L▃S🔯▃💟YOUNG💟  (646) 982-7144 - (4030 149th Pl, Flushing, NYC, ????? )', '▂▃▄▅▆▇█👠most ✿✿erotic✿✿ᒪᗩtiᑎᗩS &amp; ᗩSiᗩᑎS █▇▆▅▄▃▂▁ 💲 specials all night 💲⎝ ◕ ‿ ◕ � - (Manhattan, New York, NY, USA $99 SPECIAL )', 'True Bliss of the City, Only the Best Outcall Massage with Stacey ❤️ - (New York, NY, USA )', '🍀 ✴️❤🚺  ALL NEW ASIAN LADIES 💛✴️❤🚺💛 💛 YOUNG GRIL💛✴️❤GOOD MASSAGE ❤🚺  (631) 563-0120 - (62 South Main Street, Sayville, NY, USA )', '🎈Cutie MoMo🎈Edging/ Fetish/ Tantric Massage/Outcall /Incall - (Midtown East, Manhattan, New York, NY, USA )', '▉▉▉▉▉▉▉▉ Grand opening 🎁🎁🎁 NEW here▉▉▉▉▉▉ yuong hot ▉▉▉▉   Magical experience, you deserve a try 👍🔴 - (Main St Station, ???????? )', '█████████████🄡🄔🄐🄛🄌🄌🄌🄌pic 🄌🄌🄌🄌Yuong ℋot ℙerrty 3479252701 ❤️🖤💛💚🧡🖤� - (Flushing, ???????? )', '💆🏻\\u200d♂️Thai massage and Swedish combination 💦🍆 - (Manhattan, New York, NY, USA )', 'Hot Sexy Latinas 😘😘 BIG💦💦 JuICy 💦💦B👀ty or HuGe💋💋 B (*)(*)Bs👅...COME SEE US. CALL NOW 929 337 3329!💋 - (Cross Island Parkway, Bellerose, NY, USA )', 'Sensual body rub, mutual touching 646-460-3040 Forest Hills, Queens - (Forest Hills, Queens, NY, USA )', '🌻🍀🌻🍀🌻 TANTRIC  Relaxation  by Victoria 💋 - (White Plains, NY, USA )', 'M4M BODYWORK FOR THE ADVENTUROUS BI-BICURIOUS Discreet sessions TEXT below - (Manhattan, New York, NY, USA )', \"Rise to The Occasion - Rosanna's Real Massage! - (Upper West Side, Manhattan, New York, NY, USA )\", '💆🏻\\u200d♂️Thai massage and Swedish combination 💦🍆 - (Manhattan, New York, NY, USA )', '🍒🍓MASSAGE IS SO GOOD FOR YOU... - (Manhattan, New York, NY, USA )', '💆🏼\\u200d♂️ Transgender Outcalls Massage 3479917619  - (Manhattan, New York, NY, USA )', 'All Natural bombshell Available Now For Upscale NUDE Body rub  - (E 33rd St, New York, NY, USA )', '❤️✨BODYWORK By EVE❤️✨ Tantric NUDE Massage✨Mutual TOUCH❤️Ava 10-8pm✨Private Incall✨❤️ - (Union Turnpike - Kew Gardens Sta, Queens, NY, USA )', 'Busty sweet New York native here for a fun naughty time in the MurrayHill area  - (Manhattan, New York, NY, USA )', '💆\\u200d♂️💆\\u200d♂️💆\\u200d♂️MASSAGE FEELS SO GOOD 🤗🍒🍒 - (Manhattan, New York, NY, USA )', '💞💞💞💞💞Exotic Asian Girls, 22 years old, 24/7, Outcall  💞💞💞💞💞 - (Long Island City, Queens, NY, USA )', 'Viviana feel free to book an appointment at : 917-310-0591. Av on midt west. 917-310-0591 - (Midtown West, Manhattan, New York, NY, USA )', 'VIVI real latin beauty . MANHATTAN 9293305970 OUTCALL ONLY - (Midtown West, Manhattan, New York, NY, USA )', 'Wall str The newest to FIDI! Long legged green eyed blond  - (Wall Street, New York, NY, USA )', '❤️❤️Asia ❤️❤️Japan ❤️❤️❤️Brooklyn❤️❤️❤️9176407312❤️❤️Korea ❤️Phone 9294339992 - (814 47st brooklyn  )', '❤️❤️INcall ❤️Brooklyn❤️❤️9176407312❤️❤️Asia ❤️❤️Japan ❤️❤️Korea ❤️Phone 9294339992 - (814 47st Brooklyn  )', '🍎🍎🍎♻️♻️VERY NICE GRILS🍎🍎🍎♻️♻️Cool Room🍎🍎🍎♻️♻️3Girls Young🍎  (929) 264-1801 - (740 East Jericho Turnpike, Huntington Station, NY, USA )', '🔯🎀🔯 ✨NEW GIRLS TODAY ✨💟🎀🔯▃ 💟💟✨Beautifully G▃ I▃R▃L▃S🔯🎀🔯▃💟YOUNG💟▃🔯✨646-982-7144✨ 💟 - (4030 149th Street, Flushing, NY, ????? )', '🍀 ✴️❤🚺  ALL NEW ASIAN LADIES 💛✴️❤🚺💛 💛 YOUNG GRIL💛✴️❤✴️❤GOOD MASSAGE ❤🚺631-563-0120💛 💛✴️ - (62 South Main Street, Sayville, NY, USA )', 'Viviana feel free to book an appointment at : 917-310-0591. Av on midt west. 917-310-0591 - (Midtown West, Manhattan, New York, NY, USA )', '👑🍒🍓✨Ɓєαυтιƒυℓ💎💯💎Asian 👀ƐƳƐ Ƈαη∂у🍭🍬🍭 ƬOρ-ƝOƬcн 💯%ⓇⒺⒶⓁ🍒🍓💫WETTER ANd BeTTer� - (Manhattan, New York, NY, USA )', '99SPCLZ💋Korean ßombshεℓℓ NyMphO 💦deep thrOat😜😜❤️✈️ Avαiℓαbℓe ⓝⓞⓦ❣️ AMAZING skills 😉 - (Manhattan, New York, NY, USA )', '💦💦Cum Get A  Sensual body rub with your  favorite Dominican SKy👅😘 - (New York, NY, USA )', '⎝ ◕ ‿ ◕ ⎠σиℓʏ ғσя ʏσʋ ραρι⭐️🅾🅽🅻🆈◄ ▲🆁🅴🅰🅻 ► ▼🅿🅸🅲🆂¸✿乂◕‿◕乂🔥ⓗⓞ - (Manhattan, New York, NY, USA )', '🍀 ✴️❤🚺  ALL NEW ASIAN LADIES 💛✴️❤🚺💛 💛 YOUNG GRIL💛✴️❤🚺💛 💛✴️❤GOOD MASSAGE ❤🚺❤🚺631-563-01 - (62 South Main Street, Sayville, NY, USA )', 'All Natural bombshell Available Now For Upscale NUDE Body rub  - (E 33rd St, New York, NY, USA )', 'Royal Relaxation with Angelique Laroux - (Valley Stream, Near Green Acres Mall )', 'Do You Need Massage With*  Ts* - (Bay Ridge, Brooklyn, NY, USA )', '💞💞💞💞💞Exotic Asian Girls, 22 years old, 24/7, Outcall  💞💞💞💞💞 - (Long Island City, Queens, NY, USA )', '❤️✨BODYWORK By EVE❤️✨ Tantric NUDE Massage✨Mutual TOUCH❤️Ava 10-8pm✨Private Incall✨❤️ - (Union Turnpike - Kew Gardens Sta, Queens, NY, USA )', 'Hot Jessica 🔥🔥 Nuru Goddess...  - (Manhattan, New York, NY, USA )', '🍒🍓MASSAGE IS SO GOOD FOR YOU... - (Manhattan, New York, NY, USA )', '💆\\u200d♂️💆\\u200d♂️💆\\u200d♂️MASSAGE FEELS SO GOOD 🤗🍒🍒 - (Manhattan, New York, NY, USA )', '💆🏼\\u200d♂️ Transgender Outcalls Massage 3479917619  - (Manhattan, New York, NY, USA )', 'All Natural bombshell Available Now For Upscale NUDE Body rub  - (E 33rd St, New York, NY, USA )', '🌹 Out-Call Therapeutic Bodywork at Your Hotel or Apt by All-American Lady 🌹 ********** PLEASE TEXT ME AT - 646-715-6805 💓 - (Manhattan, New York, NY, USA )', 'Hi Hi! Come Enjoy a Massage from Brazilian TS in Brooklyn ❤️ Exotic BEAUTY - (Brooklyn, NY, USA )', 'VIVI real latin beauty . MANHATTAN 9293305970 OUTCALL ONLY - (Midtown West, Manhattan, New York, NY, USA )', '🍎🍎🍎♻️♻️VERY NICE GRILS🍎🍎🍎♻️♻️Cool Room🍎🍎🍎♻️♻️3Girls Young🍎  (929) 264-1801 - (740 East Jericho Turnpike, Huntington Station, NY, USA )', 'Latina Girl 👙Erotic  bodyrub with Young girl 4 hands available 💋will make you happy 💦516-667-4907 Mineola NY - (Mineola, NY, USA )', '🌺🌺🔥🌺Thai massage 🌺🌺🔥🌺 Relaxation session 🌺🌺🌺🔥🌺 9174344185 🌺🌺🔥🔥Outcall available 🔥🔥🌺🔥 Sw - (Midtown, Manhattan, New York, NY, USA )', '99SPCLZ💋Korean ßombshεℓℓ NyMphO 💦deep thrOat😜😜❤️✈️ Avαiℓαbℓe ⓝⓞⓦ❣️ AMAZING skills 😉 - (Manhattan, New York, NY, USA )', '👑🍒🍓✨Ɓєαυтιƒυℓ💎💯💎Asian 👀ƐƳƐ Ƈαη∂у🍭🍬🍭 ƬOρ-ƝOƬcн 💯%ⓇⒺⒶⓁ🍒🍓💫WETTER ANd BeTTer� - (Manhattan, New York, NY, USA )', '▂▃▄▅▆▇█👠most ✿✿erotic✿✿ᒪᗩtiᑎᗩS &amp; ᗩSiᗩᑎS █▇▆▅▄▃▂▁ 💲 specials all night 💲⎝ ◕ ‿ ◕ � - (Manhattan, New York, NY, USA $99 SPECIAL )', '❤️✨BODYWORK By EVE❤️✨ Tantric NUDE Massage✨Mutual TOUCH❤️Ava 10-8pm✨Private Incall✨❤️ - (Union Turnpike - Kew Gardens Sta, Queens, NY, USA )', '✨✨🦄 Excellent Thai massage 🌈🌈Full body touch💦 The best service EVER!!! ✨✨🦄646-925-0602☎️ - (Midtown Manhattan  )', 'BUSTY 🌺BLOND ✨36DD 💓Natural sensual and RELAXING body rub ✨🌺 - (White Plains, NY, USA )', '💆\\u200d♂️💆\\u200d♂️💆\\u200d♂️MASSAGE FEELS SO GOOD 🤗🍒🍒 - (Manhattan, New York, NY, USA )', '🦋24hrs🦋🦋🦋🦋An ELEGANT🦋UPSCALE🦋PRIVATE🦋SENSUAL BODYRUB YOU DESERVE🦋w/Gorgeous Fashion Model💦UltraRefreshing Organic AquaGe - (Queens, NY, USA )', '💆🏼\\u200d♂️ Asian Transgender Outcalls Massage 3479917619  - (Manhattan, New York, NY, USA )', 'All Natural bombshell Available Now For Upscale NUDE Body rub  - (E 33rd St, New York, NY, USA )', 'Sultry Seductive Madison! - (Upper East Side, Manhattan, New York, NY, USA )', '🍒🍓MASSAGE IS SO GOOD FOR YOU... - (Manhattan, New York, NY, USA )', 'Hot Jessica 🔥🔥 Nuru Goddess.. - (Manhattan, New York, NY, USA )', '💆🏼\\u200d♂️ Transgender Outcalls Massage 3479917619  - (Manhattan, New York, NY, USA )', 'VIVI real latin beauty . MANHATTAN 9293305970 OUTCALL ONLY - (Midtown West, Manhattan, New York, NY, USA )', '❣️❣️❣️ 💖Grand Open💗💖💗💖💗 YOUNG GRIL ❣️NICE GRIL 💖💖24HOURS💖💖  ☎ :929-234-9365 - (6324 Bay Ridge Parkway, Brooklyn, NYC, USA )', '🔯🎀🔯 ✨NEW GIRLS TODAY ✨💟🎀🔯▃ 💟💟✨Beautifully G▃ I▃R▃L▃S🔯🎀🔯▃💟YOUNG💟▃🔯✨646-982-7144✨ 💟 - (4030 149th Pl, Flushing, NYC, ????? )', '🍀 ✴️❤🚺  ALL NEW ASIAN LADIES 💛✴️❤🚺💛 💛 YOUNG GRIL💛✴️❤🚺💛 💛✴️❤GOOD MASSAGE ❤🚺❤🚺631-563-01 - (62 South Main Street, Sayville, NY, USA )', '🔥🔴🔥GREAD OPEN🔥🔴🔥🔴🔥🔴🔥🔴 SEXY💜💙YOUNG💚❤️Asian Massage💜💙Asian Doll 🔥929-264-1801🔥🔥🔥 - (740 East Jericho Turnpike, Huntington Station, NY, USA )', 'Midtown ❌⭕️❌⭕️❌⭕️ 4 hands $70  ☎️917-833-4815⭕️❌⭕️❌⭕️❌ BEAUTIFUL ASIAN GIRLS AMAZING⭕️❌⭕️❌⭕️� - (East 32nd Street, New York, NY, USA )', '99SPCLZ💋Korean ßombshεℓℓ NyMphO 💦deep thrOat😜😜❤️✈️ Avαiℓαbℓe ⓝⓞⓦ❣️ AMAZING skills 😉 - (Manhattan, New York, NY, USA )', 'MAGIC HANDS  SENSUAL BODY RUB    INCALL AND OUTCALL   - (Astoria, Queens, NY, USA )', '👑🍒🍓✨Ɓєαυтιƒυℓ💎💯💎Asian 👀ƐƳƐ Ƈαη∂у🍭🍬🍭 ƬOρ-ƝOƬcн 💯%ⓇⒺⒶⓁ🍒🍓💫WETTER ANd BeTTer� - (Manhattan, New York, NY, USA )', 'Hot Sexy latina😘😘 BIG💦 JuIcY 💦 B👀ty!! 👅COME SEE ME Now!!.. CALL 929 337 3329 - (Cross Island Parkway, Bellerose, NY, USA )', '⎝ ◕ ‿ ◕ ⎠σиℓʏ ғσя ʏσʋ ραρι⭐️🅾🅽🅻🆈◄ ▲🆁🅴🅰🅻 ► ▼🅿🅸🅲🆂¸✿乂◕‿◕乂🔥ⓗⓞ - (Manhattan, New York, NY, USA $99 SPECIAL )', '🔥🔴🔥GREAD OPEN🔥🔴🔥🔴🔥🔴🔥🔴 SEXY💜💙YOUNG💚❤️Asian Massage💜💙Asian Doll 🔥929-264-1801🔥🔥🔥 - (740 East Jericho Turnpike, Huntington Station, NY, USA )', 'Hi Hi! Come Enjoy a Massage from Brazilian TS in Brooklyn ❤️ Exotic BEAUTY - (Brooklyn, NY, USA )', '💆\\u200d♂️💆\\u200d♂️💆\\u200d♂️MASSAGE FEELS SO GOOD 🤗🍒🍒 - (Manhattan, New York, NY, USA )', '🦋24hrs🦋🦋🦋🦋An ELEGANT🦋UPSCALE🦋PRIVATE🦋SENSUAL BODYRUB YOU DESERVE🦋w/Gorgeous Fashion Model💦UltraRefreshing Organic AquaGe - (Queens, NY, USA )', '🍒🍓MASSAGE IS SO GOOD FOR YOU... - (Manhattan, New York, NY, USA )', 'Hot Jessica 🔥🔥 Nuru Goddess.. - (Manhattan, New York, NY, USA )', '💆🏼\\u200d♂️ Asian Transgender Outcalls Massage 3479917619  - (Manhattan, New York, NY, USA )', '💞💞💞💞💞Exotic Asian Girls, 22 years old, 24/7, Outcall  💞💞💞💞💞 - (Long Island City, Queens, NY, USA )', '💆🏼\\u200d♂️ Transgender Outcalls Massage 3479917619  - (Manhattan, New York, NY, USA )', 'VIVI real latin beauty . MANHATTAN 9293305970 OUTCALL ONLY - (Midtown West, Manhattan, New York, NY, USA )', '🍒🍓MASSAGE IS SO GOOD FOR YOU... - (Manhattan, New York, NY, USA )', '💆🏼\\u200d♂️ Transgender Outcalls Massage 3479917619  - (Manhattan, New York, NY, USA )', '💖Grand Open💗💖💗 YOUNG GRIL ❣️💥24HOURS💥❣️ NICE GRIL 💖💖💖💥💥💥💥💖💖💖  ☎CALL ☎ :929-234-9365 - (6324 Bay Ridge Parkway, Brooklyn, NYC, USA )', 'Erotic bodyrub 160$ - (Forest Hills, Queens, NY, USA )', 'Sexy and Sweet  DDD Goddess Hailey  is here to Tease and Please you! Available Now For Sunday Fun !! - (Midtown East, Manhattan, New York, NY, USA )', '🍀 ✴️❤🚺  ALL NEW ASIAN LADIES 💛✴️❤🚺💛 💛 YOUNG GRIL💛✴️❤🚺💛 💛✴️❤GOOD MASSAGE ❤🚺❤🚺631-563-01 - (62 South Main Street, Sayville, NY, USA )', '🔥🔴🔥GREAD OPEN🔥🔴🔥🔴🔥🔴🔥🔴 SEXY💜💙YOUNG💚❤️Asian Massage💜💙Asian Doll 🔥929-264-1801🔥🔥🔥 - (740 East Jericho Turnpike, Huntington Station, NY, USA )', 'Hot Jessica 🔥🔥 Nuru Goddess.. - (Midtown, Manhattan, NY, New York, USA )', '💆🏼\\u200d♂️ Asian Transgender Outcalls Massage 3479917619  - (Manhattan, New York, NY, USA )', 'VIVI real latin beauty . MANHATTAN 9293305970 OUTCALL ONLY - (Midtown West, Manhattan, New York, NY, USA )', '🦋24hrs🦋🦋🦋🦋An ELEGANT🦋UPSCALE🦋PRIVATE🦋SENSUAL BODYRUB YOU DESERVE🦋w/Gorgeous Fashion Model💦UltraRefreshing Organic AquaGe - (Queens, NY, USA )', '💞💞💞💞💞Exotic Asian Girls, 22 years old, 24/7, Outcall  💞💞💞💞💞 - (Long Island City, Queens, NY, USA )', 'Midtown ❌⭕️❌⭕️❌⭕️ 4 hands $70  ☎️917-833-4815⭕️❌⭕️❌⭕️❌ BEAUTIFUL ASIAN GIRLS AMAZING⭕️❌⭕️❌⭕️� - (E 32nd St bt 5th and Madison ave )')\n"
     ]
    }
   ],
   "source": [
    "j=0\n",
    "for i in mydivs:\n",
    "    temp = str(mydivs[j])\n",
    "    temp = temp.split('target=\"_blank\">')[1]\n",
    "    temp = temp.split('</b>\\n</a>\\n</div>')[0]\n",
    "    temp = ''.join(temp.strip()\n",
    "             .replace('<b>', ''))\n",
    "    title_array.append(temp)\n",
    "    j+=1\n",
    "title_w_all_emoji = tuple(title_array)\n",
    "print(title_w_all_emoji)\n"
   ]
  },
  {
   "cell_type": "markdown",
   "metadata": {},
   "source": [
    "## Extracting non-factor emojis\n",
    "- use title_array to further strip down tites to exclude non-factor emojis"
   ]
  },
  {
   "cell_type": "code",
   "execution_count": 122,
   "metadata": {},
   "outputs": [
    {
     "name": "stdout",
     "output_type": "stream",
     "text": [
      "New Girls - Open 24 hrs New Body Work, Best In Town! Wonderful and Relaxing from Sweet girls, Call: 646-255-5931 - (Long Island City, Queens, NY, USA )\n",
      "Hot Ts latina Here BAY RIDGE - (Bay Ridge, Brooklyn, NY, USA )\n",
      "★★ Therapeutic Touch Therapy With Professional Cuddle Buddies + Travel Companions ★★ - (United States )\n",
      "Rise to The Occasion - Rosanna's Real Massage! - (Upper West Side, Manhattan, New York, NY, USA )\n",
      "Viviana feel free to book an appointment at : 917-310-0591. Av on midt west. 917-310-0591 - (Midtown West, Manhattan, New York, NY, USA )\n",
      "Blonde Curvy DDD Knockout Hailey Is Back And To New Area ! Available All Night Long !  - (Manhattan, New York, NY, USA )\n",
      "SEXY busty blonde 34 DD NATURAL SENSUAL 🍒very🍒 RELAXING bodywork 646_687_6342, - (White Plains, NY, USA )\n",
      "🏻‍️Thai massage and Swedish combination  - (Manhattan, New York, NY, USA )\n",
      "OPEN 10AM - Midnight.....?️..NEW ..️?............... .call ️ @ 646-255-5931 ️ ..........Nice Body Work from NEW GIRLS..........100 - (Queens, NY, USA )\n",
      "Goddess Kat wil have you at her feet - (Brooklyn, NY, USA )\n",
      " NEW GIRLS TODAY ▃ Beautifully G▃ I▃R▃L▃S▃YOUNG  (646) 982-7144 - (4030 149th Street, Flushing, NYC, ??? USA )\n",
      "Gretchen the Goddess of Punishment - (Brooklyn, NY, USA )\n",
      "Exotic Asian Girls, 22 years old, 24/7, Outcall   - (Long Island City, Queens, NY, USA )\n",
      "️️Asia ️️Japan ️9176407312 ️️Korea ️Phone 9294339992 - (814 47th Brooklyn  )\n",
      "👑🍒ƁєαυтιƒυℓAsian ƐƳƐ Ƈαη∂у ƬOρ-ƝOƬcн %ⓇⒺⒶⓁ🍒WETTER ANd BeTTer� - (Manhattan, New York, NY, USA )\n",
      "BEAUTIFUL BLACK GODDESS: \"STORMY DAY\" - 212.353.8817 - (East 23rd Street, Manhattan, New York, NY, USA )\n",
      "▂▃▄▅▆▇█most ✿✿erotic✿✿ᒪᗩtiᑎᗩS &amp; ᗩSiᗩᑎS █▇▆▅▄▃▂▁  specials all night ⎝ ◕ ‿ ◕ � - (Manhattan, New York, NY, USA $99 SPECIAL )\n",
      "Slim THICK with a NICE LIL FAT ASSTight Wet KITTYMesmerizingCurvz Impeccable Skilz - (Manhattan, New York, NY, USA )\n",
      "Mature is the rite option Sensual rub Blonde hostess MILF incall  morning noon apps. - (Upper West Side, Manhattan, New York, NY, USA )\n",
      "99SPCLZKorean ßombshεℓℓ NyMphO deep thrOat️✈️ Avαiℓαbℓe ⓝⓞⓦ️ AMAZING skills  - (Manhattan, New York, NY, USA )\n",
      "Young Ts TITA. ... - (Bay Ridge, Brooklyn, NY, USA )\n",
      "️Nuru massage outcall ️917-266-0091 - (New York, NY, USA )\n",
      "*****Rub Boutique seeking American Girls/Indian Girls Great pay, no experience necessary 400+/day****** - (Long Island, New York, USA )\n",
      "SEXY busty blonde 34 DD NATURAL SENSUAL 🍒very🍒 RELAXING bodywork 646_687_6342, - (White Plains, NY, USA )\n",
      " TANTRIC  Relaxation  by Victoria  - (White Plains, NY, USA )\n",
      " ️  ALL NEW ASIAN LADIES 💛️💛 💛 YOUNG GRIL💛 💛️GOOD MASSAGE   (631) 563-0120 - (62 South Main Street, Sayville, NY, USA )\n",
      "Latina girls Erotic  bodyrub with Young  girl  will make you happy 516-667-4907 Mineola NY - (Mineola, NY, USA )\n",
      "Best good massage hot Latina 914.327.9068 - (Bronx, NY, USA )\n",
      "SENSATIONAL  TOCH   INCALL AND OUTCALL - (Astoria Boulevard, Astoria, NY, USA )\n",
      "European Hottie  🍒LISSETE 🍒gorgeous Blond 🍒Sensual Upscale bodywork  - (White Plains, NY, USA )\n",
      "️️Asia ️️Japan ️9176407312  ️  Brooklyn   ️Korea ️Phone 9294339992 - (814 47th Street,Brooklyn  )\n",
      "🏻‍️Thai massage and Swedish combination  - (Manhattan, New York, NY, USA )\n",
      "Viviana feel free to book an appointment at : 917-310-0591. Av on midt west. 917-310-0591 - (Midtown West, Manhattan, New York, NY, USA )\n",
      "Sexy BUSTY BLOND 36D natural sensual body rub  in call 🍒 - (White Plains, Westchester, NY, USA )\n",
      "Rise to The Occasion - Rosanna's Real Massage! - (Upper West Side, Manhattan, New York, NY, USA )\n",
      "️BODYWORK By EVE️ Tantric NUDE MassageMutual TOUCH️Ava 10-8pmPrivate Incall️ - (Union Turnpike - Kew Gardens Sta, Queens, NY, USA )\n",
      "Exotic Asian Girls, 22 years old, 24/7, Outcall   - (Long Island City, Queens, NY, USA )\n",
      "99SPCLZKorean ßombshεℓℓ NyMphO deep thrOat️✈️ Avαiℓαbℓe ⓝⓞⓦ️ AMAZING skills  - (Manhattan, New York, NY, USA )\n",
      "Slim THICK with a NICE LIL FAT ASSTight Wet KITTYMesmerizingCurvz Impeccable Skilz - (Manhattan, New York, NY, USA )\n",
      "Blonde Bombshell Riley here to tease and please you tonight ;) - (Midtown East, Manhattan, New York, NY, USA )\n",
      "⎝ ◕ ‿ ◕ ⎠σиℓʏ ғσя ʏσʋ ραρι️🅽🅻🆈◄ ▲🆁🅴🅻 ► ▼🅸🅲🆂¸✿乂◕‿◕乂ⓗⓞ - (Manhattan, New York, NY, USA $99 SPECIAL )\n",
      "THE ROYAL TREATMENT aka \"Cream de la Cream\" by Nurse Pearl -  Lovely Black Nurse 212.353.8817 - (East 23rd Street, Manhattan, New York, NY, USA )\n",
      " NEW GIRLS TODAY ▃ Beautifully G▃ I▃R▃L▃S▃YOUNG  (646) 982-7144 - (4030 149th Street, Flushing, NYC, ????? )\n",
      "Guen here with a gentle touch. 6314611818 Holbrook - (Holbrook, NY, USA )\n",
      "Outcall Massage by CMT Natalia ***** Available Now ****** - (New York, NY, USA )\n",
      "Sensual body rub, Forest hills - (Forest Hills, Queens, NY, USA )\n",
      "ReaL Pictures American girl &amp;  Latina Girls Erotic  bodyrub with Young girl  4 hands available  will make you happy 516-667-4907Mi - (Mineola, NY, USA )\n",
      "Erotic bodyrub 160$ - (Forest Hills, Queens, NY, USA )\n",
      "️ Grand Open💗💗 YOUNG GRIL ️️️ NICE GRIL 24HOURS     (929) 234-9365 - (6324 Bay Ridge Parkway, Brooklyn, NY, USA )\n",
      "_______________ _____________N_ __U___R_ U_____ __E__U___R___O_ __________G__ I__R___L___ S ___ ___ - (Midtown East, Manhattan, New York, NY, USA )\n",
      "THAI MASSAGE 6465992443 - (Midtown, Manhattan, New York, NY, USA )\n",
      "Meet ZOE! All Natural DDD Curvy Stunner Zoe Available Now The Ultimate Sensual Escape - (Midtown East, Manhattan, New York, NY, USA )\n",
      "European &amp; Latina girls    bodyrub with Young girl  4 hands available will make you happy 516-667-4907Mineola NY - (Mineola, NY, USA )\n",
      "Curvy Busty College Babe Sensual BodyRubsPrivate Studio - (Williamsburg, Brooklyn, NY, USA )\n",
      "️️️European Bodyrub from Alyssa️️ - (New York, NY, USA )\n",
      "️️VERY NICE GRILS️️Cool Room️️3Girls Young  (929) 264-1801 - (740 East Jericho Turnpike, Huntington Station, NY, USA )\n",
      "Royal Relaxation with Angelique Laroux 424-835-1620 - (Valley Stream, NY, USA )\n",
      "Rise to The Occasion - Rosanna's Real Massage! - (Upper West Side, Manhattan, New York, NY, USA )\n",
      "‍️‍️‍️MASSAGE FEELS SO GOOD 🍒🍒 - (Manhattan, New York, NY, USA )\n",
      "️BODYWORK By EVE️ Tantric NUDE MassageMutual TOUCH️Ava 10-8pmPrivate Incall️ - (Union Turnpike - Kew Gardens Sta, Queens, NY, USA )\n",
      "All Natural bombshell Available Now For Upscale NUDE Body rub  - (E 33rd St, New York, NY, USA )\n",
      "🌹 Independent OutCall Therapeutic Bodywork at Your Hotel/Apt by All-American Lady 🌹 ********** PLEASE TEXT ME AT - 646-715-6805  - (New York, Manhattan, NY, USA )\n",
      "BLACK JAMAICAN GODDESS 3473772169 DOMINATION FETISH PLAY &amp; BODYRUBS - (Sunset Park Brooklyn )\n",
      "🏻‍️Thai massage and Swedish combination  - (Manhattan, New York, NY, USA )\n",
      "Exotic Asian Girls, 22 years old, 24/7, Outcall   - (Long Island City, Queens, NY, USA )\n",
      "Hi Hi! Come Enjoy a Massage from Brazilian TS in Brooklyn ️ Exotic BEAUTY - (Brooklyn, NY, USA )\n",
      "Viviana feel free to book an appointment at : 917-310-0591. Av on midt west. 917-310-0591 - (Midtown West, Manhattan, New York, NY, USA )\n",
      "️️VERY NICE GRILS️️Cool Room️️3Girls Young  (929) 264-1801 - (740 East Jericho Turnpike, Huntington Station, NY, USA )\n",
      "Slim THICK with a NICE LIL FAT ASSTight Wet KITTYMesmerizingCurvz Impeccable Skilz - (Manhattan, New York, NY, USA )\n",
      "ReaL Pictures  Latina GirsErotic  bodyrub with Young girl  4 hands available  will make you happy 516 -667-4907 Mineola NY - (Mineola, NY, USA )\n",
      "99SPCLZKorean ßombshεℓℓ NyMphO deep thrOat️✈️ Avαiℓαbℓe ⓝⓞⓦ️ AMAZING skills  - (Manhattan, New York, NY, USA )\n",
      "👑🍒ƁєαυтιƒυℓAsian ƐƳƐ Ƈαη∂у ƬOρ-ƝOƬcн %ⓇⒺⒶⓁ🍒WETTER ANd BeTTer� - (Manhattan, New York, NY, USA )\n",
      " NEW GIRLS TODAY ▃ Beautifully G▃ I▃R▃L▃S▃YOUNG  (646) 982-7144 - (4030 149th Pl, Flushing, NYC, ????? )\n",
      "▂▃▄▅▆▇█most ✿✿erotic✿✿ᒪᗩtiᑎᗩS &amp; ᗩSiᗩᑎS █▇▆▅▄▃▂▁  specials all night ⎝ ◕ ‿ ◕ � - (Manhattan, New York, NY, USA $99 SPECIAL )\n",
      "True Bliss of the City, Only the Best Outcall Massage with Stacey ️ - (New York, NY, USA )\n",
      " ️  ALL NEW ASIAN LADIES 💛️💛 💛 YOUNG GRIL💛️GOOD MASSAGE   (631) 563-0120 - (62 South Main Street, Sayville, NY, USA )\n",
      "Cutie MoMoEdging/ Fetish/ Tantric Massage/Outcall /Incall - (Midtown East, Manhattan, New York, NY, USA )\n",
      "▉▉▉▉▉▉▉▉ Grand opening  NEW here▉▉▉▉▉▉ yuong hot ▉▉▉▉   Magical experience, you deserve a try  - (Main St Station, ???????? )\n",
      "█████████████🄡🄔🄐🄛🄌🄌🄌🄌pic 🄌🄌🄌🄌Yuong ℋot ℙerrty 3479252701 ️💛� - (Flushing, ???????? )\n",
      "🏻‍️Thai massage and Swedish combination  - (Manhattan, New York, NY, USA )\n",
      "Hot Sexy Latinas  BIG JuICy Bty or HuGe B (*)(*)Bs...COME SEE US. CALL NOW 929 337 3329! - (Cross Island Parkway, Bellerose, NY, USA )\n",
      "Sensual body rub, mutual touching 646-460-3040 Forest Hills, Queens - (Forest Hills, Queens, NY, USA )\n",
      " TANTRIC  Relaxation  by Victoria  - (White Plains, NY, USA )\n",
      "M4M BODYWORK FOR THE ADVENTUROUS BI-BICURIOUS Discreet sessions TEXT below - (Manhattan, New York, NY, USA )\n",
      "Rise to The Occasion - Rosanna's Real Massage! - (Upper West Side, Manhattan, New York, NY, USA )\n",
      "🏻‍️Thai massage and Swedish combination  - (Manhattan, New York, NY, USA )\n",
      "🍒MASSAGE IS SO GOOD FOR YOU... - (Manhattan, New York, NY, USA )\n",
      "🏼‍️ Transgender Outcalls Massage 3479917619  - (Manhattan, New York, NY, USA )\n",
      "All Natural bombshell Available Now For Upscale NUDE Body rub  - (E 33rd St, New York, NY, USA )\n",
      "️BODYWORK By EVE️ Tantric NUDE MassageMutual TOUCH️Ava 10-8pmPrivate Incall️ - (Union Turnpike - Kew Gardens Sta, Queens, NY, USA )\n",
      "Busty sweet New York native here for a fun naughty time in the MurrayHill area  - (Manhattan, New York, NY, USA )\n",
      "‍️‍️‍️MASSAGE FEELS SO GOOD 🍒🍒 - (Manhattan, New York, NY, USA )\n",
      "Exotic Asian Girls, 22 years old, 24/7, Outcall   - (Long Island City, Queens, NY, USA )\n",
      "Viviana feel free to book an appointment at : 917-310-0591. Av on midt west. 917-310-0591 - (Midtown West, Manhattan, New York, NY, USA )\n",
      "VIVI real latin beauty . MANHATTAN 9293305970 OUTCALL ONLY - (Midtown West, Manhattan, New York, NY, USA )\n",
      "Wall str The newest to FIDI! Long legged green eyed blond  - (Wall Street, New York, NY, USA )\n",
      "️️Asia ️️Japan ️️️Brooklyn️️️9176407312️️Korea ️Phone 9294339992 - (814 47st brooklyn  )\n",
      "️️INcall ️Brooklyn️️9176407312️️Asia ️️Japan ️️Korea ️Phone 9294339992 - (814 47st Brooklyn  )\n",
      "️️VERY NICE GRILS️️Cool Room️️3Girls Young  (929) 264-1801 - (740 East Jericho Turnpike, Huntington Station, NY, USA )\n",
      " NEW GIRLS TODAY ▃ Beautifully G▃ I▃R▃L▃S▃YOUNG▃646-982-7144  - (4030 149th Street, Flushing, NY, ????? )\n",
      " ️  ALL NEW ASIAN LADIES 💛️💛 💛 YOUNG GRIL💛️️GOOD MASSAGE 631-563-0120💛 💛️ - (62 South Main Street, Sayville, NY, USA )\n",
      "Viviana feel free to book an appointment at : 917-310-0591. Av on midt west. 917-310-0591 - (Midtown West, Manhattan, New York, NY, USA )\n",
      "👑🍒ƁєαυтιƒυℓAsian ƐƳƐ Ƈαη∂у ƬOρ-ƝOƬcн %ⓇⒺⒶⓁ🍒WETTER ANd BeTTer� - (Manhattan, New York, NY, USA )\n",
      "99SPCLZKorean ßombshεℓℓ NyMphO deep thrOat️✈️ Avαiℓαbℓe ⓝⓞⓦ️ AMAZING skills  - (Manhattan, New York, NY, USA )\n",
      "Cum Get A  Sensual body rub with your  favorite Dominican SKy - (New York, NY, USA )\n",
      "⎝ ◕ ‿ ◕ ⎠σиℓʏ ғσя ʏσʋ ραρι️🅽🅻🆈◄ ▲🆁🅴🅻 ► ▼🅸🅲🆂¸✿乂◕‿◕乂ⓗⓞ - (Manhattan, New York, NY, USA )\n",
      " ️  ALL NEW ASIAN LADIES 💛️💛 💛 YOUNG GRIL💛️💛 💛️GOOD MASSAGE 631-563-01 - (62 South Main Street, Sayville, NY, USA )\n",
      "All Natural bombshell Available Now For Upscale NUDE Body rub  - (E 33rd St, New York, NY, USA )\n",
      "Royal Relaxation with Angelique Laroux - (Valley Stream, Near Green Acres Mall )\n",
      "Do You Need Massage With*  Ts* - (Bay Ridge, Brooklyn, NY, USA )\n",
      "Exotic Asian Girls, 22 years old, 24/7, Outcall   - (Long Island City, Queens, NY, USA )\n",
      "️BODYWORK By EVE️ Tantric NUDE MassageMutual TOUCH️Ava 10-8pmPrivate Incall️ - (Union Turnpike - Kew Gardens Sta, Queens, NY, USA )\n",
      "Hot Jessica  Nuru Goddess...  - (Manhattan, New York, NY, USA )\n",
      "🍒MASSAGE IS SO GOOD FOR YOU... - (Manhattan, New York, NY, USA )\n",
      "‍️‍️‍️MASSAGE FEELS SO GOOD 🍒🍒 - (Manhattan, New York, NY, USA )\n",
      "🏼‍️ Transgender Outcalls Massage 3479917619  - (Manhattan, New York, NY, USA )\n",
      "All Natural bombshell Available Now For Upscale NUDE Body rub  - (E 33rd St, New York, NY, USA )\n",
      "🌹 Out-Call Therapeutic Bodywork at Your Hotel or Apt by All-American Lady 🌹 ********** PLEASE TEXT ME AT - 646-715-6805  - (Manhattan, New York, NY, USA )\n",
      "Hi Hi! Come Enjoy a Massage from Brazilian TS in Brooklyn ️ Exotic BEAUTY - (Brooklyn, NY, USA )\n",
      "VIVI real latin beauty . MANHATTAN 9293305970 OUTCALL ONLY - (Midtown West, Manhattan, New York, NY, USA )\n",
      "️️VERY NICE GRILS️️Cool Room️️3Girls Young  (929) 264-1801 - (740 East Jericho Turnpike, Huntington Station, NY, USA )\n",
      "Latina Girl Erotic  bodyrub with Young girl 4 hands available will make you happy 516-667-4907 Mineola NY - (Mineola, NY, USA )\n",
      "Thai massage  Relaxation session  9174344185 Outcall available  Sw - (Midtown, Manhattan, New York, NY, USA )\n",
      "99SPCLZKorean ßombshεℓℓ NyMphO deep thrOat️✈️ Avαiℓαbℓe ⓝⓞⓦ️ AMAZING skills  - (Manhattan, New York, NY, USA )\n",
      "👑🍒ƁєαυтιƒυℓAsian ƐƳƐ Ƈαη∂у ƬOρ-ƝOƬcн %ⓇⒺⒶⓁ🍒WETTER ANd BeTTer� - (Manhattan, New York, NY, USA )\n",
      "▂▃▄▅▆▇█most ✿✿erotic✿✿ᒪᗩtiᑎᗩS &amp; ᗩSiᗩᑎS █▇▆▅▄▃▂▁  specials all night ⎝ ◕ ‿ ◕ � - (Manhattan, New York, NY, USA $99 SPECIAL )\n",
      "️BODYWORK By EVE️ Tantric NUDE MassageMutual TOUCH️Ava 10-8pmPrivate Incall️ - (Union Turnpike - Kew Gardens Sta, Queens, NY, USA )\n",
      " Excellent Thai massage Full body touch The best service EVER!!! 646-925-0602️ - (Midtown Manhattan  )\n",
      "BUSTY BLOND 36DD Natural sensual and RELAXING body rub  - (White Plains, NY, USA )\n",
      "‍️‍️‍️MASSAGE FEELS SO GOOD 🍒🍒 - (Manhattan, New York, NY, USA )\n",
      "24hrsAn ELEGANTUPSCALEPRIVATESENSUAL BODYRUB YOU DESERVEw/Gorgeous Fashion ModelUltraRefreshing Organic AquaGe - (Queens, NY, USA )\n",
      "🏼‍️ Asian Transgender Outcalls Massage 3479917619  - (Manhattan, New York, NY, USA )\n",
      "All Natural bombshell Available Now For Upscale NUDE Body rub  - (E 33rd St, New York, NY, USA )\n",
      "Sultry Seductive Madison! - (Upper East Side, Manhattan, New York, NY, USA )\n",
      "🍒MASSAGE IS SO GOOD FOR YOU... - (Manhattan, New York, NY, USA )\n",
      "Hot Jessica  Nuru Goddess.. - (Manhattan, New York, NY, USA )\n",
      "🏼‍️ Transgender Outcalls Massage 3479917619  - (Manhattan, New York, NY, USA )\n",
      "VIVI real latin beauty . MANHATTAN 9293305970 OUTCALL ONLY - (Midtown West, Manhattan, New York, NY, USA )\n",
      "️️️ Grand Open💗💗💗 YOUNG GRIL ️NICE GRIL 24HOURS   :929-234-9365 - (6324 Bay Ridge Parkway, Brooklyn, NYC, USA )\n",
      " NEW GIRLS TODAY ▃ Beautifully G▃ I▃R▃L▃S▃YOUNG▃646-982-7144  - (4030 149th Pl, Flushing, NYC, ????? )\n",
      " ️  ALL NEW ASIAN LADIES 💛️💛 💛 YOUNG GRIL💛️💛 💛️GOOD MASSAGE 631-563-01 - (62 South Main Street, Sayville, NY, USA )\n",
      "GREAD OPEN SEXYYOUNG️Asian MassageAsian Doll 929-264-1801 - (740 East Jericho Turnpike, Huntington Station, NY, USA )\n",
      "Midtown ️️️ 4 hands $70  ️917-833-4815️️️ BEAUTIFUL ASIAN GIRLS AMAZING️️️� - (East 32nd Street, New York, NY, USA )\n",
      "99SPCLZKorean ßombshεℓℓ NyMphO deep thrOat️✈️ Avαiℓαbℓe ⓝⓞⓦ️ AMAZING skills  - (Manhattan, New York, NY, USA )\n",
      "MAGIC HANDS  SENSUAL BODY RUB    INCALL AND OUTCALL   - (Astoria, Queens, NY, USA )\n",
      "👑🍒ƁєαυтιƒυℓAsian ƐƳƐ Ƈαη∂у ƬOρ-ƝOƬcн %ⓇⒺⒶⓁ🍒WETTER ANd BeTTer� - (Manhattan, New York, NY, USA )\n",
      "Hot Sexy latina BIG JuIcY  Bty!! COME SEE ME Now!!.. CALL 929 337 3329 - (Cross Island Parkway, Bellerose, NY, USA )\n",
      "⎝ ◕ ‿ ◕ ⎠σиℓʏ ғσя ʏσʋ ραρι️🅽🅻🆈◄ ▲🆁🅴🅻 ► ▼🅸🅲🆂¸✿乂◕‿◕乂ⓗⓞ - (Manhattan, New York, NY, USA $99 SPECIAL )\n",
      "GREAD OPEN SEXYYOUNG️Asian MassageAsian Doll 929-264-1801 - (740 East Jericho Turnpike, Huntington Station, NY, USA )\n",
      "Hi Hi! Come Enjoy a Massage from Brazilian TS in Brooklyn ️ Exotic BEAUTY - (Brooklyn, NY, USA )\n",
      "‍️‍️‍️MASSAGE FEELS SO GOOD 🍒🍒 - (Manhattan, New York, NY, USA )\n",
      "24hrsAn ELEGANTUPSCALEPRIVATESENSUAL BODYRUB YOU DESERVEw/Gorgeous Fashion ModelUltraRefreshing Organic AquaGe - (Queens, NY, USA )\n",
      "🍒MASSAGE IS SO GOOD FOR YOU... - (Manhattan, New York, NY, USA )\n",
      "Hot Jessica  Nuru Goddess.. - (Manhattan, New York, NY, USA )\n",
      "🏼‍️ Asian Transgender Outcalls Massage 3479917619  - (Manhattan, New York, NY, USA )\n",
      "Exotic Asian Girls, 22 years old, 24/7, Outcall   - (Long Island City, Queens, NY, USA )\n",
      "🏼‍️ Transgender Outcalls Massage 3479917619  - (Manhattan, New York, NY, USA )\n",
      "VIVI real latin beauty . MANHATTAN 9293305970 OUTCALL ONLY - (Midtown West, Manhattan, New York, NY, USA )\n",
      "🍒MASSAGE IS SO GOOD FOR YOU... - (Manhattan, New York, NY, USA )\n",
      "🏼‍️ Transgender Outcalls Massage 3479917619  - (Manhattan, New York, NY, USA )\n",
      "Grand Open💗💗 YOUNG GRIL ️24HOURS️ NICE GRIL   CALL  :929-234-9365 - (6324 Bay Ridge Parkway, Brooklyn, NYC, USA )\n",
      "Erotic bodyrub 160$ - (Forest Hills, Queens, NY, USA )\n",
      "Sexy and Sweet  DDD Goddess Hailey  is here to Tease and Please you! Available Now For Sunday Fun !! - (Midtown East, Manhattan, New York, NY, USA )\n",
      " ️  ALL NEW ASIAN LADIES 💛️💛 💛 YOUNG GRIL💛️💛 💛️GOOD MASSAGE 631-563-01 - (62 South Main Street, Sayville, NY, USA )\n",
      "GREAD OPEN SEXYYOUNG️Asian MassageAsian Doll 929-264-1801 - (740 East Jericho Turnpike, Huntington Station, NY, USA )\n",
      "Hot Jessica  Nuru Goddess.. - (Midtown, Manhattan, NY, New York, USA )\n",
      "🏼‍️ Asian Transgender Outcalls Massage 3479917619  - (Manhattan, New York, NY, USA )\n",
      "VIVI real latin beauty . MANHATTAN 9293305970 OUTCALL ONLY - (Midtown West, Manhattan, New York, NY, USA )\n",
      "24hrsAn ELEGANTUPSCALEPRIVATESENSUAL BODYRUB YOU DESERVEw/Gorgeous Fashion ModelUltraRefreshing Organic AquaGe - (Queens, NY, USA )\n",
      "Exotic Asian Girls, 22 years old, 24/7, Outcall   - (Long Island City, Queens, NY, USA )\n",
      "Midtown ️️️ 4 hands $70  ️917-833-4815️️️ BEAUTIFUL ASIAN GIRLS AMAZING️️️� - (E 32nd St bt 5th and Madison ave )\n",
      "\n"
     ]
    }
   ],
   "source": [
    "data_without_useless_emoji = \"\"\n",
    "#type(title_array) returns list\n",
    "for i in range(len(title_array)):\n",
    "    \n",
    "    string_title = ''.join(title_array[i]) + '\\n'\n",
    "    #string_title is string \n",
    "    for c in string_title:\n",
    "        if c not in data2:\n",
    "            data_without_useless_emoji += c\n",
    "        \n",
    "print (data_without_useless_emoji)\n",
    "        "
   ]
  },
  {
   "cell_type": "code",
   "execution_count": 123,
   "metadata": {},
   "outputs": [],
   "source": [
    "# #def remove_useless_emoji(data):\n",
    "#  #   data_without_useless_emoji = []\n",
    "     \n",
    "#     for c in data :\n",
    "#         if c in emoji.UNICODE_EMOJI and c not in emoji_list :\n",
    "#             print (c)\n",
    "#             data_without_useless_emoji=data#.replace(c, \"\")\n",
    "            \n",
    "#     return data_without_useless_emoji\n",
    "    \n",
    "#     # return ''.join(c for c in data if c in emoji.UNICODE_EMOJI and c in emoji_list)\n",
    "\n",
    "# remove_useless_emoji(title_array)"
   ]
  },
  {
   "cell_type": "markdown",
   "metadata": {},
   "source": [
    "## Title with no emojis at all\n",
    "- extracting all emojis from title"
   ]
  },
  {
   "cell_type": "code",
   "execution_count": 124,
   "metadata": {},
   "outputs": [
    {
     "name": "stdout",
     "output_type": "stream",
     "text": [
      "New Girls - Open 24 hrs New Body Work, Best In Town! Wonderful and Relaxing from Sweet girls, Call: 646-255-5931 - (Long Island City, Queens, NY, USA )\n",
      "Hot Ts latina Here BAY RIDGE - (Bay Ridge, Brooklyn, NY, USA )\n",
      "★★ Therapeutic Touch Therapy With Professional Cuddle Buddies + Travel Companions ★★ - (United States )\n",
      "Rise to The Occasion - Rosanna's Real Massage! - (Upper West Side, Manhattan, New York, NY, USA )\n",
      "Viviana feel free to book an appointment at : 917-310-0591. Av on midt west. 917-310-0591 - (Midtown West, Manhattan, New York, NY, USA )\n",
      "Blonde Curvy DDD Knockout Hailey Is Back And To New Area ! Available All Night Long !  - (Manhattan, New York, NY, USA )\n",
      "SEXY busty blonde 34 DD NATURAL SENSUAL very RELAXING bodywork 646_687_6342, - (White Plains, NY, USA )\n",
      "🏻‍️Thai massage and Swedish combination  - (Manhattan, New York, NY, USA )\n",
      "OPEN 10AM - Midnight.....?️..NEW ..️?............... .call ️ @ 646-255-5931 ️ ..........Nice Body Work from NEW GIRLS..........100 - (Queens, NY, USA )\n",
      "Goddess Kat wil have you at her feet - (Brooklyn, NY, USA )\n",
      " NEW GIRLS TODAY ▃ Beautifully G▃ I▃R▃L▃S▃YOUNG  (646) 982-7144 - (4030 149th Street, Flushing, NYC, ??? USA )\n",
      "Gretchen the Goddess of Punishment - (Brooklyn, NY, USA )\n",
      "Exotic Asian Girls, 22 years old, 24/7, Outcall   - (Long Island City, Queens, NY, USA )\n",
      "️️Asia ️️Japan ️9176407312 ️️Korea ️Phone 9294339992 - (814 47th Brooklyn  )\n",
      "ƁєαυтιƒυℓAsian ƐƳƐ Ƈαη∂у ƬOρ-ƝOƬcн %ⓇⒺⒶⓁWETTER ANd BeTTer� - (Manhattan, New York, NY, USA )\n",
      "BEAUTIFUL BLACK GODDESS: \"STORMY DAY\" - 212.353.8817 - (East 23rd Street, Manhattan, New York, NY, USA )\n",
      "▂▃▄▅▆▇█most ✿✿erotic✿✿ᒪᗩtiᑎᗩS &amp; ᗩSiᗩᑎS █▇▆▅▄▃▂▁  specials all night ⎝ ◕ ‿ ◕ � - (Manhattan, New York, NY, USA $99 SPECIAL )\n",
      "Slim THICK with a NICE LIL FAT ASSTight Wet KITTYMesmerizingCurvz Impeccable Skilz - (Manhattan, New York, NY, USA )\n",
      "Mature is the rite option Sensual rub Blonde hostess MILF incall  morning noon apps. - (Upper West Side, Manhattan, New York, NY, USA )\n",
      "99SPCLZKorean ßombshεℓℓ NyMphO deep thrOat️️ Avαiℓαbℓe ⓝⓞⓦ️ AMAZING skills  - (Manhattan, New York, NY, USA )\n",
      "Young Ts TITA. ... - (Bay Ridge, Brooklyn, NY, USA )\n",
      "️Nuru massage outcall ️917-266-0091 - (New York, NY, USA )\n",
      "*****Rub Boutique seeking American Girls/Indian Girls Great pay, no experience necessary 400+/day****** - (Long Island, New York, USA )\n",
      "SEXY busty blonde 34 DD NATURAL SENSUAL very RELAXING bodywork 646_687_6342, - (White Plains, NY, USA )\n",
      " TANTRIC  Relaxation  by Victoria  - (White Plains, NY, USA )\n",
      " ️  ALL NEW ASIAN LADIES ️  YOUNG GRIL ️GOOD MASSAGE   (631) 563-0120 - (62 South Main Street, Sayville, NY, USA )\n",
      "Latina girls Erotic  bodyrub with Young  girl  will make you happy 516-667-4907 Mineola NY - (Mineola, NY, USA )\n",
      "Best good massage hot Latina 914.327.9068 - (Bronx, NY, USA )\n",
      "SENSATIONAL  TOCH   INCALL AND OUTCALL - (Astoria Boulevard, Astoria, NY, USA )\n",
      "European Hottie  LISSETE gorgeous Blond Sensual Upscale bodywork  - (White Plains, NY, USA )\n",
      "️️Asia ️️Japan ️9176407312  ️  Brooklyn   ️Korea ️Phone 9294339992 - (814 47th Street,Brooklyn  )\n",
      "🏻‍️Thai massage and Swedish combination  - (Manhattan, New York, NY, USA )\n",
      "Viviana feel free to book an appointment at : 917-310-0591. Av on midt west. 917-310-0591 - (Midtown West, Manhattan, New York, NY, USA )\n",
      "Sexy BUSTY BLOND 36D natural sensual body rub  in call  - (White Plains, Westchester, NY, USA )\n",
      "Rise to The Occasion - Rosanna's Real Massage! - (Upper West Side, Manhattan, New York, NY, USA )\n",
      "️BODYWORK By EVE️ Tantric NUDE MassageMutual TOUCH️Ava 10-8pmPrivate Incall️ - (Union Turnpike - Kew Gardens Sta, Queens, NY, USA )\n",
      "Exotic Asian Girls, 22 years old, 24/7, Outcall   - (Long Island City, Queens, NY, USA )\n",
      "99SPCLZKorean ßombshεℓℓ NyMphO deep thrOat️️ Avαiℓαbℓe ⓝⓞⓦ️ AMAZING skills  - (Manhattan, New York, NY, USA )\n",
      "Slim THICK with a NICE LIL FAT ASSTight Wet KITTYMesmerizingCurvz Impeccable Skilz - (Manhattan, New York, NY, USA )\n",
      "Blonde Bombshell Riley here to tease and please you tonight ;) - (Midtown East, Manhattan, New York, NY, USA )\n",
      "⎝ ◕ ‿ ◕ ⎠σиℓʏ ғσя ʏσʋ ραρι️🅽🅻🆈◄ ▲🆁🅴🅻 ► ▼🅸🅲🆂¸✿乂◕‿◕乂ⓗⓞ - (Manhattan, New York, NY, USA $99 SPECIAL )\n",
      "THE ROYAL TREATMENT aka \"Cream de la Cream\" by Nurse Pearl -  Lovely Black Nurse 212.353.8817 - (East 23rd Street, Manhattan, New York, NY, USA )\n",
      " NEW GIRLS TODAY ▃ Beautifully G▃ I▃R▃L▃S▃YOUNG  (646) 982-7144 - (4030 149th Street, Flushing, NYC, ????? )\n",
      "Guen here with a gentle touch. 6314611818 Holbrook - (Holbrook, NY, USA )\n",
      "Outcall Massage by CMT Natalia ***** Available Now ****** - (New York, NY, USA )\n",
      "Sensual body rub, Forest hills - (Forest Hills, Queens, NY, USA )\n",
      "ReaL Pictures American girl &amp;  Latina Girls Erotic  bodyrub with Young girl  4 hands available  will make you happy 516-667-4907Mi - (Mineola, NY, USA )\n",
      "Erotic bodyrub 160$ - (Forest Hills, Queens, NY, USA )\n",
      "️ Grand Open YOUNG GRIL ️️️ NICE GRIL 24HOURS     (929) 234-9365 - (6324 Bay Ridge Parkway, Brooklyn, NY, USA )\n",
      "_______________ _____________N_ __U___R_ U_____ __E__U___R___O_ __________G__ I__R___L___ S ___ ___ - (Midtown East, Manhattan, New York, NY, USA )\n",
      "THAI MASSAGE 6465992443 - (Midtown, Manhattan, New York, NY, USA )\n",
      "Meet ZOE! All Natural DDD Curvy Stunner Zoe Available Now The Ultimate Sensual Escape - (Midtown East, Manhattan, New York, NY, USA )\n",
      "European &amp; Latina girls    bodyrub with Young girl  4 hands available will make you happy 516-667-4907Mineola NY - (Mineola, NY, USA )\n",
      "Curvy Busty College Babe Sensual BodyRubsPrivate Studio - (Williamsburg, Brooklyn, NY, USA )\n",
      "️️️European Bodyrub from Alyssa️️ - (New York, NY, USA )\n",
      "️️VERY NICE GRILS️️Cool Room️️3Girls Young  (929) 264-1801 - (740 East Jericho Turnpike, Huntington Station, NY, USA )\n",
      "Royal Relaxation with Angelique Laroux 424-835-1620 - (Valley Stream, NY, USA )\n",
      "Rise to The Occasion - Rosanna's Real Massage! - (Upper West Side, Manhattan, New York, NY, USA )\n",
      "‍️‍️‍️MASSAGE FEELS SO GOOD  - (Manhattan, New York, NY, USA )\n",
      "️BODYWORK By EVE️ Tantric NUDE MassageMutual TOUCH️Ava 10-8pmPrivate Incall️ - (Union Turnpike - Kew Gardens Sta, Queens, NY, USA )\n",
      "All Natural bombshell Available Now For Upscale NUDE Body rub  - (E 33rd St, New York, NY, USA )\n",
      " Independent OutCall Therapeutic Bodywork at Your Hotel/Apt by All-American Lady  ********** PLEASE TEXT ME AT - 646-715-6805  - (New York, Manhattan, NY, USA )\n",
      "BLACK JAMAICAN GODDESS 3473772169 DOMINATION FETISH PLAY &amp; BODYRUBS - (Sunset Park Brooklyn )\n",
      "🏻‍️Thai massage and Swedish combination  - (Manhattan, New York, NY, USA )\n",
      "Exotic Asian Girls, 22 years old, 24/7, Outcall   - (Long Island City, Queens, NY, USA )\n",
      "Hi Hi! Come Enjoy a Massage from Brazilian TS in Brooklyn ️ Exotic BEAUTY - (Brooklyn, NY, USA )\n",
      "Viviana feel free to book an appointment at : 917-310-0591. Av on midt west. 917-310-0591 - (Midtown West, Manhattan, New York, NY, USA )\n",
      "️️VERY NICE GRILS️️Cool Room️️3Girls Young  (929) 264-1801 - (740 East Jericho Turnpike, Huntington Station, NY, USA )\n",
      "Slim THICK with a NICE LIL FAT ASSTight Wet KITTYMesmerizingCurvz Impeccable Skilz - (Manhattan, New York, NY, USA )\n",
      "ReaL Pictures  Latina GirsErotic  bodyrub with Young girl  4 hands available  will make you happy 516 -667-4907 Mineola NY - (Mineola, NY, USA )\n",
      "99SPCLZKorean ßombshεℓℓ NyMphO deep thrOat️️ Avαiℓαbℓe ⓝⓞⓦ️ AMAZING skills  - (Manhattan, New York, NY, USA )\n",
      "ƁєαυтιƒυℓAsian ƐƳƐ Ƈαη∂у ƬOρ-ƝOƬcн %ⓇⒺⒶⓁWETTER ANd BeTTer� - (Manhattan, New York, NY, USA )\n",
      " NEW GIRLS TODAY ▃ Beautifully G▃ I▃R▃L▃S▃YOUNG  (646) 982-7144 - (4030 149th Pl, Flushing, NYC, ????? )\n",
      "▂▃▄▅▆▇█most ✿✿erotic✿✿ᒪᗩtiᑎᗩS &amp; ᗩSiᗩᑎS █▇▆▅▄▃▂▁  specials all night ⎝ ◕ ‿ ◕ � - (Manhattan, New York, NY, USA $99 SPECIAL )\n",
      "True Bliss of the City, Only the Best Outcall Massage with Stacey ️ - (New York, NY, USA )\n",
      " ️  ALL NEW ASIAN LADIES ️  YOUNG GRIL️GOOD MASSAGE   (631) 563-0120 - (62 South Main Street, Sayville, NY, USA )\n",
      "Cutie MoMoEdging/ Fetish/ Tantric Massage/Outcall /Incall - (Midtown East, Manhattan, New York, NY, USA )\n",
      "▉▉▉▉▉▉▉▉ Grand opening  NEW here▉▉▉▉▉▉ yuong hot ▉▉▉▉   Magical experience, you deserve a try  - (Main St Station, ???????? )\n",
      "█████████████🄡🄔🄐🄛🄌🄌🄌🄌pic 🄌🄌🄌🄌Yuong ℋot ℙerrty 3479252701 ️� - (Flushing, ???????? )\n",
      "🏻‍️Thai massage and Swedish combination  - (Manhattan, New York, NY, USA )\n",
      "Hot Sexy Latinas  BIG JuICy Bty or HuGe B (*)(*)Bs...COME SEE US. CALL NOW 929 337 3329! - (Cross Island Parkway, Bellerose, NY, USA )\n",
      "Sensual body rub, mutual touching 646-460-3040 Forest Hills, Queens - (Forest Hills, Queens, NY, USA )\n",
      " TANTRIC  Relaxation  by Victoria  - (White Plains, NY, USA )\n",
      "M4M BODYWORK FOR THE ADVENTUROUS BI-BICURIOUS Discreet sessions TEXT below - (Manhattan, New York, NY, USA )\n",
      "Rise to The Occasion - Rosanna's Real Massage! - (Upper West Side, Manhattan, New York, NY, USA )\n",
      "🏻‍️Thai massage and Swedish combination  - (Manhattan, New York, NY, USA )\n",
      "MASSAGE IS SO GOOD FOR YOU... - (Manhattan, New York, NY, USA )\n",
      "🏼‍️ Transgender Outcalls Massage 3479917619  - (Manhattan, New York, NY, USA )\n",
      "All Natural bombshell Available Now For Upscale NUDE Body rub  - (E 33rd St, New York, NY, USA )\n",
      "️BODYWORK By EVE️ Tantric NUDE MassageMutual TOUCH️Ava 10-8pmPrivate Incall️ - (Union Turnpike - Kew Gardens Sta, Queens, NY, USA )\n",
      "Busty sweet New York native here for a fun naughty time in the MurrayHill area  - (Manhattan, New York, NY, USA )\n",
      "‍️‍️‍️MASSAGE FEELS SO GOOD  - (Manhattan, New York, NY, USA )\n",
      "Exotic Asian Girls, 22 years old, 24/7, Outcall   - (Long Island City, Queens, NY, USA )\n",
      "Viviana feel free to book an appointment at : 917-310-0591. Av on midt west. 917-310-0591 - (Midtown West, Manhattan, New York, NY, USA )\n",
      "VIVI real latin beauty . MANHATTAN 9293305970 OUTCALL ONLY - (Midtown West, Manhattan, New York, NY, USA )\n",
      "Wall str The newest to FIDI! Long legged green eyed blond  - (Wall Street, New York, NY, USA )\n",
      "️️Asia ️️Japan ️️️Brooklyn️️️9176407312️️Korea ️Phone 9294339992 - (814 47st brooklyn  )\n",
      "️️INcall ️Brooklyn️️9176407312️️Asia ️️Japan ️️Korea ️Phone 9294339992 - (814 47st Brooklyn  )\n",
      "️️VERY NICE GRILS️️Cool Room️️3Girls Young  (929) 264-1801 - (740 East Jericho Turnpike, Huntington Station, NY, USA )\n",
      " NEW GIRLS TODAY ▃ Beautifully G▃ I▃R▃L▃S▃YOUNG▃646-982-7144  - (4030 149th Street, Flushing, NY, ????? )\n",
      " ️  ALL NEW ASIAN LADIES ️  YOUNG GRIL️️GOOD MASSAGE 631-563-0120 ️ - (62 South Main Street, Sayville, NY, USA )\n",
      "Viviana feel free to book an appointment at : 917-310-0591. Av on midt west. 917-310-0591 - (Midtown West, Manhattan, New York, NY, USA )\n",
      "ƁєαυтιƒυℓAsian ƐƳƐ Ƈαη∂у ƬOρ-ƝOƬcн %ⓇⒺⒶⓁWETTER ANd BeTTer� - (Manhattan, New York, NY, USA )\n",
      "99SPCLZKorean ßombshεℓℓ NyMphO deep thrOat️️ Avαiℓαbℓe ⓝⓞⓦ️ AMAZING skills  - (Manhattan, New York, NY, USA )\n",
      "Cum Get A  Sensual body rub with your  favorite Dominican SKy - (New York, NY, USA )\n",
      "⎝ ◕ ‿ ◕ ⎠σиℓʏ ғσя ʏσʋ ραρι️🅽🅻🆈◄ ▲🆁🅴🅻 ► ▼🅸🅲🆂¸✿乂◕‿◕乂ⓗⓞ - (Manhattan, New York, NY, USA )\n",
      " ️  ALL NEW ASIAN LADIES ️  YOUNG GRIL️ ️GOOD MASSAGE 631-563-01 - (62 South Main Street, Sayville, NY, USA )\n",
      "All Natural bombshell Available Now For Upscale NUDE Body rub  - (E 33rd St, New York, NY, USA )\n",
      "Royal Relaxation with Angelique Laroux - (Valley Stream, Near Green Acres Mall )\n",
      "Do You Need Massage With*  Ts* - (Bay Ridge, Brooklyn, NY, USA )\n",
      "Exotic Asian Girls, 22 years old, 24/7, Outcall   - (Long Island City, Queens, NY, USA )\n",
      "️BODYWORK By EVE️ Tantric NUDE MassageMutual TOUCH️Ava 10-8pmPrivate Incall️ - (Union Turnpike - Kew Gardens Sta, Queens, NY, USA )\n",
      "Hot Jessica  Nuru Goddess...  - (Manhattan, New York, NY, USA )\n",
      "MASSAGE IS SO GOOD FOR YOU... - (Manhattan, New York, NY, USA )\n",
      "‍️‍️‍️MASSAGE FEELS SO GOOD  - (Manhattan, New York, NY, USA )\n",
      "🏼‍️ Transgender Outcalls Massage 3479917619  - (Manhattan, New York, NY, USA )\n",
      "All Natural bombshell Available Now For Upscale NUDE Body rub  - (E 33rd St, New York, NY, USA )\n",
      " Out-Call Therapeutic Bodywork at Your Hotel or Apt by All-American Lady  ********** PLEASE TEXT ME AT - 646-715-6805  - (Manhattan, New York, NY, USA )\n",
      "Hi Hi! Come Enjoy a Massage from Brazilian TS in Brooklyn ️ Exotic BEAUTY - (Brooklyn, NY, USA )\n",
      "VIVI real latin beauty . MANHATTAN 9293305970 OUTCALL ONLY - (Midtown West, Manhattan, New York, NY, USA )\n",
      "️️VERY NICE GRILS️️Cool Room️️3Girls Young  (929) 264-1801 - (740 East Jericho Turnpike, Huntington Station, NY, USA )\n",
      "Latina Girl Erotic  bodyrub with Young girl 4 hands available will make you happy 516-667-4907 Mineola NY - (Mineola, NY, USA )\n",
      "Thai massage  Relaxation session  9174344185 Outcall available  Sw - (Midtown, Manhattan, New York, NY, USA )\n",
      "99SPCLZKorean ßombshεℓℓ NyMphO deep thrOat️️ Avαiℓαbℓe ⓝⓞⓦ️ AMAZING skills  - (Manhattan, New York, NY, USA )\n",
      "ƁєαυтιƒυℓAsian ƐƳƐ Ƈαη∂у ƬOρ-ƝOƬcн %ⓇⒺⒶⓁWETTER ANd BeTTer� - (Manhattan, New York, NY, USA )\n",
      "▂▃▄▅▆▇█most ✿✿erotic✿✿ᒪᗩtiᑎᗩS &amp; ᗩSiᗩᑎS █▇▆▅▄▃▂▁  specials all night ⎝ ◕ ‿ ◕ � - (Manhattan, New York, NY, USA $99 SPECIAL )\n",
      "️BODYWORK By EVE️ Tantric NUDE MassageMutual TOUCH️Ava 10-8pmPrivate Incall️ - (Union Turnpike - Kew Gardens Sta, Queens, NY, USA )\n",
      " Excellent Thai massage Full body touch The best service EVER!!! 646-925-0602️ - (Midtown Manhattan  )\n",
      "BUSTY BLOND 36DD Natural sensual and RELAXING body rub  - (White Plains, NY, USA )\n",
      "‍️‍️‍️MASSAGE FEELS SO GOOD  - (Manhattan, New York, NY, USA )\n",
      "24hrsAn ELEGANTUPSCALEPRIVATESENSUAL BODYRUB YOU DESERVEw/Gorgeous Fashion ModelUltraRefreshing Organic AquaGe - (Queens, NY, USA )\n",
      "🏼‍️ Asian Transgender Outcalls Massage 3479917619  - (Manhattan, New York, NY, USA )\n",
      "All Natural bombshell Available Now For Upscale NUDE Body rub  - (E 33rd St, New York, NY, USA )\n",
      "Sultry Seductive Madison! - (Upper East Side, Manhattan, New York, NY, USA )\n",
      "MASSAGE IS SO GOOD FOR YOU... - (Manhattan, New York, NY, USA )\n",
      "Hot Jessica  Nuru Goddess.. - (Manhattan, New York, NY, USA )\n",
      "🏼‍️ Transgender Outcalls Massage 3479917619  - (Manhattan, New York, NY, USA )\n",
      "VIVI real latin beauty . MANHATTAN 9293305970 OUTCALL ONLY - (Midtown West, Manhattan, New York, NY, USA )\n",
      "️️️ Grand Open YOUNG GRIL ️NICE GRIL 24HOURS   :929-234-9365 - (6324 Bay Ridge Parkway, Brooklyn, NYC, USA )\n",
      " NEW GIRLS TODAY ▃ Beautifully G▃ I▃R▃L▃S▃YOUNG▃646-982-7144  - (4030 149th Pl, Flushing, NYC, ????? )\n",
      " ️  ALL NEW ASIAN LADIES ️  YOUNG GRIL️ ️GOOD MASSAGE 631-563-01 - (62 South Main Street, Sayville, NY, USA )\n",
      "GREAD OPEN SEXYYOUNG️Asian MassageAsian Doll 929-264-1801 - (740 East Jericho Turnpike, Huntington Station, NY, USA )\n",
      "Midtown ️️️ 4 hands $70  ️917-833-4815️️️ BEAUTIFUL ASIAN GIRLS AMAZING️️️� - (East 32nd Street, New York, NY, USA )\n",
      "99SPCLZKorean ßombshεℓℓ NyMphO deep thrOat️️ Avαiℓαbℓe ⓝⓞⓦ️ AMAZING skills  - (Manhattan, New York, NY, USA )\n",
      "MAGIC HANDS  SENSUAL BODY RUB    INCALL AND OUTCALL   - (Astoria, Queens, NY, USA )\n",
      "ƁєαυтιƒυℓAsian ƐƳƐ Ƈαη∂у ƬOρ-ƝOƬcн %ⓇⒺⒶⓁWETTER ANd BeTTer� - (Manhattan, New York, NY, USA )\n",
      "Hot Sexy latina BIG JuIcY  Bty!! COME SEE ME Now!!.. CALL 929 337 3329 - (Cross Island Parkway, Bellerose, NY, USA )\n",
      "⎝ ◕ ‿ ◕ ⎠σиℓʏ ғσя ʏσʋ ραρι️🅽🅻🆈◄ ▲🆁🅴🅻 ► ▼🅸🅲🆂¸✿乂◕‿◕乂ⓗⓞ - (Manhattan, New York, NY, USA $99 SPECIAL )\n",
      "GREAD OPEN SEXYYOUNG️Asian MassageAsian Doll 929-264-1801 - (740 East Jericho Turnpike, Huntington Station, NY, USA )\n",
      "Hi Hi! Come Enjoy a Massage from Brazilian TS in Brooklyn ️ Exotic BEAUTY - (Brooklyn, NY, USA )\n",
      "‍️‍️‍️MASSAGE FEELS SO GOOD  - (Manhattan, New York, NY, USA )\n",
      "24hrsAn ELEGANTUPSCALEPRIVATESENSUAL BODYRUB YOU DESERVEw/Gorgeous Fashion ModelUltraRefreshing Organic AquaGe - (Queens, NY, USA )\n",
      "MASSAGE IS SO GOOD FOR YOU... - (Manhattan, New York, NY, USA )\n",
      "Hot Jessica  Nuru Goddess.. - (Manhattan, New York, NY, USA )\n",
      "🏼‍️ Asian Transgender Outcalls Massage 3479917619  - (Manhattan, New York, NY, USA )\n",
      "Exotic Asian Girls, 22 years old, 24/7, Outcall   - (Long Island City, Queens, NY, USA )\n",
      "🏼‍️ Transgender Outcalls Massage 3479917619  - (Manhattan, New York, NY, USA )\n",
      "VIVI real latin beauty . MANHATTAN 9293305970 OUTCALL ONLY - (Midtown West, Manhattan, New York, NY, USA )\n",
      "MASSAGE IS SO GOOD FOR YOU... - (Manhattan, New York, NY, USA )\n",
      "🏼‍️ Transgender Outcalls Massage 3479917619  - (Manhattan, New York, NY, USA )\n",
      "Grand Open YOUNG GRIL ️24HOURS️ NICE GRIL   CALL  :929-234-9365 - (6324 Bay Ridge Parkway, Brooklyn, NYC, USA )\n",
      "Erotic bodyrub 160$ - (Forest Hills, Queens, NY, USA )\n",
      "Sexy and Sweet  DDD Goddess Hailey  is here to Tease and Please you! Available Now For Sunday Fun !! - (Midtown East, Manhattan, New York, NY, USA )\n",
      " ️  ALL NEW ASIAN LADIES ️  YOUNG GRIL️ ️GOOD MASSAGE 631-563-01 - (62 South Main Street, Sayville, NY, USA )\n",
      "GREAD OPEN SEXYYOUNG️Asian MassageAsian Doll 929-264-1801 - (740 East Jericho Turnpike, Huntington Station, NY, USA )\n",
      "Hot Jessica  Nuru Goddess.. - (Midtown, Manhattan, NY, New York, USA )\n",
      "🏼‍️ Asian Transgender Outcalls Massage 3479917619  - (Manhattan, New York, NY, USA )\n",
      "VIVI real latin beauty . MANHATTAN 9293305970 OUTCALL ONLY - (Midtown West, Manhattan, New York, NY, USA )\n",
      "24hrsAn ELEGANTUPSCALEPRIVATESENSUAL BODYRUB YOU DESERVEw/Gorgeous Fashion ModelUltraRefreshing Organic AquaGe - (Queens, NY, USA )\n",
      "Exotic Asian Girls, 22 years old, 24/7, Outcall   - (Long Island City, Queens, NY, USA )\n",
      "Midtown ️️️ 4 hands $70  ️917-833-4815️️️ BEAUTIFUL ASIAN GIRLS AMAZING️️️� - (E 32nd St bt 5th and Madison ave )\n",
      "\n"
     ]
    }
   ],
   "source": [
    "data_without_emoji = \"\"\n",
    "#type(title_array) returns list\n",
    "for i in range(len(title_array)):\n",
    "    \n",
    "    string_title = ''.join(title_array[i]) + '\\n'\n",
    "    #string_title is string \n",
    "    for c in string_title:\n",
    "        if c not in emoji.UNICODE_EMOJI:\n",
    "            data_without_emoji += c\n",
    "        \n",
    "print (data_without_emoji)"
   ]
  },
  {
   "cell_type": "code",
   "execution_count": null,
   "metadata": {},
   "outputs": [],
   "source": []
  }
 ],
 "metadata": {
  "kernelspec": {
   "display_name": "Python 3",
   "language": "python",
   "name": "python3"
  },
  "language_info": {
   "codemirror_mode": {
    "name": "ipython",
    "version": 3
   },
   "file_extension": ".py",
   "mimetype": "text/x-python",
   "name": "python",
   "nbconvert_exporter": "python",
   "pygments_lexer": "ipython3",
   "version": "3.7.0"
  }
 },
 "nbformat": 4,
 "nbformat_minor": 2
}

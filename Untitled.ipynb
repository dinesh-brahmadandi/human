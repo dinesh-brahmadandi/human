{
 "cells": [
  {
   "cell_type": "code",
   "execution_count": 8,
   "metadata": {},
   "outputs": [],
   "source": [
    "from google.cloud import language\n",
    "\n"
   ]
  },
  {
   "cell_type": "code",
   "execution_count": 11,
   "metadata": {},
   "outputs": [],
   "source": [
    "def language_analysis(text):\n",
    "    client = language.Client()\n",
    "    document = client.document_from_text(text)\n",
    "    sent_analysis = document.analyze_sentiment()\n",
    "    print(dir(sent_analysis))\n",
    "    sentiment = sent_analysis.sentiment\n",
    "    ent_analysis = document.analyze_entities()\n",
    "    entities = ent_analysis.entities\n",
    "    return sentiment, entities\n",
    "\n",
    "    example_text = 'is it not obvious that uncc is the best school in NC?'\n",
    "\n",
    "    sentiment, entities = language_analysis(example_text)\n",
    "    print(sentiment.score, sentiment.magnitude)\n",
    "\n",
    "    for e in entities:\n",
    "        print(e.name, e.entity_type, e.metadata, e.salience)"
   ]
  },
  {
   "cell_type": "code",
   "execution_count": null,
   "metadata": {},
   "outputs": [],
   "source": [
    "example_text = 'University of North Carolina at Charlotte is the best school in the UNC System'"
   ]
  },
  {
   "cell_type": "code",
   "execution_count": null,
   "metadata": {},
   "outputs": [],
   "source": []
  }
 ],
 "metadata": {
  "kernelspec": {
   "display_name": "Python 3",
   "language": "python",
   "name": "python3"
  },
  "language_info": {
   "codemirror_mode": {
    "name": "ipython",
    "version": 3
   },
   "file_extension": ".py",
   "mimetype": "text/x-python",
   "name": "python",
   "nbconvert_exporter": "python",
   "pygments_lexer": "ipython3",
   "version": "3.7.0"
  }
 },
 "nbformat": 4,
 "nbformat_minor": 2
}
